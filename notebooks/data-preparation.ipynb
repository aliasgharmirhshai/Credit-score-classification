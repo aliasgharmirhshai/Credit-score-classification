{
 "cells": [
  {
   "cell_type": "code",
   "execution_count": 33,
   "metadata": {},
   "outputs": [],
   "source": [
    "import pandas as pd\n",
    "import numpy as np\n",
    "import matplotlib.pyplot as plt\n",
    "import seaborn as sns\n",
    "import os\n",
    "from scipy import stats\n",
    "import re"
   ]
  },
  {
   "cell_type": "markdown",
   "metadata": {},
   "source": [
    "# Load Data"
   ]
  },
  {
   "cell_type": "code",
   "execution_count": 34,
   "metadata": {},
   "outputs": [],
   "source": [
    "def load_data(data_path=\"../data/\"):\n",
    "    \"\"\"Load the credit scoring dataset.\"\"\"\n",
    "    # Check if the data directory exists\n",
    "    if not os.path.exists(data_path):\n",
    "        raise FileNotFoundError(f\"Data directory '{data_path}' not found.\")\n",
    "    \n",
    "    # Look for CSV files in the data directory\n",
    "    csv_files = [f for f in os.listdir(data_path) if f.endswith('train.csv')]\n",
    "    \n",
    "    if not csv_files:\n",
    "        raise FileNotFoundError(f\"No CSV files found in '{data_path}'.\")\n",
    "    \n",
    "    # Load the first CSV file found\n",
    "    file_path = os.path.join(data_path, csv_files[0])\n",
    "    print(f\"Loading data from: {file_path}\")\n",
    "    \n",
    "    return pd.read_csv(file_path)\n"
   ]
  },
  {
   "cell_type": "code",
   "execution_count": 35,
   "metadata": {},
   "outputs": [
    {
     "name": "stdout",
     "output_type": "stream",
     "text": [
      "Loading data from: ../data/train.csv\n"
     ]
    },
    {
     "name": "stderr",
     "output_type": "stream",
     "text": [
      "/tmp/ipykernel_23865/948120084.py:17: DtypeWarning: Columns (26) have mixed types. Specify dtype option on import or set low_memory=False.\n",
      "  return pd.read_csv(file_path)\n"
     ]
    },
    {
     "data": {
      "text/html": [
       "<div>\n",
       "<style scoped>\n",
       "    .dataframe tbody tr th:only-of-type {\n",
       "        vertical-align: middle;\n",
       "    }\n",
       "\n",
       "    .dataframe tbody tr th {\n",
       "        vertical-align: top;\n",
       "    }\n",
       "\n",
       "    .dataframe thead th {\n",
       "        text-align: right;\n",
       "    }\n",
       "</style>\n",
       "<table border=\"1\" class=\"dataframe\">\n",
       "  <thead>\n",
       "    <tr style=\"text-align: right;\">\n",
       "      <th></th>\n",
       "      <th>ID</th>\n",
       "      <th>Customer_ID</th>\n",
       "      <th>Month</th>\n",
       "      <th>Name</th>\n",
       "      <th>Age</th>\n",
       "      <th>SSN</th>\n",
       "      <th>Occupation</th>\n",
       "      <th>Annual_Income</th>\n",
       "      <th>Monthly_Inhand_Salary</th>\n",
       "      <th>Num_Bank_Accounts</th>\n",
       "      <th>...</th>\n",
       "      <th>Credit_Mix</th>\n",
       "      <th>Outstanding_Debt</th>\n",
       "      <th>Credit_Utilization_Ratio</th>\n",
       "      <th>Credit_History_Age</th>\n",
       "      <th>Payment_of_Min_Amount</th>\n",
       "      <th>Total_EMI_per_month</th>\n",
       "      <th>Amount_invested_monthly</th>\n",
       "      <th>Payment_Behaviour</th>\n",
       "      <th>Monthly_Balance</th>\n",
       "      <th>Credit_Score</th>\n",
       "    </tr>\n",
       "  </thead>\n",
       "  <tbody>\n",
       "    <tr>\n",
       "      <th>0</th>\n",
       "      <td>0x1602</td>\n",
       "      <td>CUS_0xd40</td>\n",
       "      <td>January</td>\n",
       "      <td>Aaron Maashoh</td>\n",
       "      <td>23</td>\n",
       "      <td>821-00-0265</td>\n",
       "      <td>Scientist</td>\n",
       "      <td>19114.12</td>\n",
       "      <td>1824.843333</td>\n",
       "      <td>3</td>\n",
       "      <td>...</td>\n",
       "      <td>_</td>\n",
       "      <td>809.98</td>\n",
       "      <td>26.822620</td>\n",
       "      <td>22 Years and 1 Months</td>\n",
       "      <td>No</td>\n",
       "      <td>49.574949</td>\n",
       "      <td>80.41529543900253</td>\n",
       "      <td>High_spent_Small_value_payments</td>\n",
       "      <td>312.49408867943663</td>\n",
       "      <td>Good</td>\n",
       "    </tr>\n",
       "    <tr>\n",
       "      <th>1</th>\n",
       "      <td>0x1603</td>\n",
       "      <td>CUS_0xd40</td>\n",
       "      <td>February</td>\n",
       "      <td>Aaron Maashoh</td>\n",
       "      <td>23</td>\n",
       "      <td>821-00-0265</td>\n",
       "      <td>Scientist</td>\n",
       "      <td>19114.12</td>\n",
       "      <td>NaN</td>\n",
       "      <td>3</td>\n",
       "      <td>...</td>\n",
       "      <td>Good</td>\n",
       "      <td>809.98</td>\n",
       "      <td>31.944960</td>\n",
       "      <td>NaN</td>\n",
       "      <td>No</td>\n",
       "      <td>49.574949</td>\n",
       "      <td>118.28022162236736</td>\n",
       "      <td>Low_spent_Large_value_payments</td>\n",
       "      <td>284.62916249607184</td>\n",
       "      <td>Good</td>\n",
       "    </tr>\n",
       "    <tr>\n",
       "      <th>2</th>\n",
       "      <td>0x1604</td>\n",
       "      <td>CUS_0xd40</td>\n",
       "      <td>March</td>\n",
       "      <td>Aaron Maashoh</td>\n",
       "      <td>-500</td>\n",
       "      <td>821-00-0265</td>\n",
       "      <td>Scientist</td>\n",
       "      <td>19114.12</td>\n",
       "      <td>NaN</td>\n",
       "      <td>3</td>\n",
       "      <td>...</td>\n",
       "      <td>Good</td>\n",
       "      <td>809.98</td>\n",
       "      <td>28.609352</td>\n",
       "      <td>22 Years and 3 Months</td>\n",
       "      <td>No</td>\n",
       "      <td>49.574949</td>\n",
       "      <td>81.699521264648</td>\n",
       "      <td>Low_spent_Medium_value_payments</td>\n",
       "      <td>331.2098628537912</td>\n",
       "      <td>Good</td>\n",
       "    </tr>\n",
       "    <tr>\n",
       "      <th>3</th>\n",
       "      <td>0x1605</td>\n",
       "      <td>CUS_0xd40</td>\n",
       "      <td>April</td>\n",
       "      <td>Aaron Maashoh</td>\n",
       "      <td>23</td>\n",
       "      <td>821-00-0265</td>\n",
       "      <td>Scientist</td>\n",
       "      <td>19114.12</td>\n",
       "      <td>NaN</td>\n",
       "      <td>3</td>\n",
       "      <td>...</td>\n",
       "      <td>Good</td>\n",
       "      <td>809.98</td>\n",
       "      <td>31.377862</td>\n",
       "      <td>22 Years and 4 Months</td>\n",
       "      <td>No</td>\n",
       "      <td>49.574949</td>\n",
       "      <td>199.4580743910713</td>\n",
       "      <td>Low_spent_Small_value_payments</td>\n",
       "      <td>223.45130972736786</td>\n",
       "      <td>Good</td>\n",
       "    </tr>\n",
       "    <tr>\n",
       "      <th>4</th>\n",
       "      <td>0x1606</td>\n",
       "      <td>CUS_0xd40</td>\n",
       "      <td>May</td>\n",
       "      <td>Aaron Maashoh</td>\n",
       "      <td>23</td>\n",
       "      <td>821-00-0265</td>\n",
       "      <td>Scientist</td>\n",
       "      <td>19114.12</td>\n",
       "      <td>1824.843333</td>\n",
       "      <td>3</td>\n",
       "      <td>...</td>\n",
       "      <td>Good</td>\n",
       "      <td>809.98</td>\n",
       "      <td>24.797347</td>\n",
       "      <td>22 Years and 5 Months</td>\n",
       "      <td>No</td>\n",
       "      <td>49.574949</td>\n",
       "      <td>41.420153086217326</td>\n",
       "      <td>High_spent_Medium_value_payments</td>\n",
       "      <td>341.48923103222177</td>\n",
       "      <td>Good</td>\n",
       "    </tr>\n",
       "  </tbody>\n",
       "</table>\n",
       "<p>5 rows × 28 columns</p>\n",
       "</div>"
      ],
      "text/plain": [
       "       ID Customer_ID     Month           Name   Age          SSN Occupation  \\\n",
       "0  0x1602   CUS_0xd40   January  Aaron Maashoh    23  821-00-0265  Scientist   \n",
       "1  0x1603   CUS_0xd40  February  Aaron Maashoh    23  821-00-0265  Scientist   \n",
       "2  0x1604   CUS_0xd40     March  Aaron Maashoh  -500  821-00-0265  Scientist   \n",
       "3  0x1605   CUS_0xd40     April  Aaron Maashoh    23  821-00-0265  Scientist   \n",
       "4  0x1606   CUS_0xd40       May  Aaron Maashoh    23  821-00-0265  Scientist   \n",
       "\n",
       "  Annual_Income  Monthly_Inhand_Salary  Num_Bank_Accounts  ...  Credit_Mix  \\\n",
       "0      19114.12            1824.843333                  3  ...           _   \n",
       "1      19114.12                    NaN                  3  ...        Good   \n",
       "2      19114.12                    NaN                  3  ...        Good   \n",
       "3      19114.12                    NaN                  3  ...        Good   \n",
       "4      19114.12            1824.843333                  3  ...        Good   \n",
       "\n",
       "   Outstanding_Debt Credit_Utilization_Ratio     Credit_History_Age  \\\n",
       "0            809.98                26.822620  22 Years and 1 Months   \n",
       "1            809.98                31.944960                    NaN   \n",
       "2            809.98                28.609352  22 Years and 3 Months   \n",
       "3            809.98                31.377862  22 Years and 4 Months   \n",
       "4            809.98                24.797347  22 Years and 5 Months   \n",
       "\n",
       "   Payment_of_Min_Amount Total_EMI_per_month Amount_invested_monthly  \\\n",
       "0                     No           49.574949       80.41529543900253   \n",
       "1                     No           49.574949      118.28022162236736   \n",
       "2                     No           49.574949         81.699521264648   \n",
       "3                     No           49.574949       199.4580743910713   \n",
       "4                     No           49.574949      41.420153086217326   \n",
       "\n",
       "                  Payment_Behaviour     Monthly_Balance Credit_Score  \n",
       "0   High_spent_Small_value_payments  312.49408867943663         Good  \n",
       "1    Low_spent_Large_value_payments  284.62916249607184         Good  \n",
       "2   Low_spent_Medium_value_payments   331.2098628537912         Good  \n",
       "3    Low_spent_Small_value_payments  223.45130972736786         Good  \n",
       "4  High_spent_Medium_value_payments  341.48923103222177         Good  \n",
       "\n",
       "[5 rows x 28 columns]"
      ]
     },
     "execution_count": 35,
     "metadata": {},
     "output_type": "execute_result"
    }
   ],
   "source": [
    "df = load_data()\n",
    "df.head()"
   ]
  },
  {
   "cell_type": "markdown",
   "metadata": {},
   "source": [
    "# Remove Duplicates"
   ]
  },
  {
   "cell_type": "code",
   "execution_count": 36,
   "metadata": {},
   "outputs": [
    {
     "name": "stdout",
     "output_type": "stream",
     "text": [
      "Empty DataFrame\n",
      "Columns: [ID, Customer_ID, Month, Name, Age, SSN, Occupation, Annual_Income, Monthly_Inhand_Salary, Num_Bank_Accounts, Num_Credit_Card, Interest_Rate, Num_of_Loan, Type_of_Loan, Delay_from_due_date, Num_of_Delayed_Payment, Changed_Credit_Limit, Num_Credit_Inquiries, Credit_Mix, Outstanding_Debt, Credit_Utilization_Ratio, Credit_History_Age, Payment_of_Min_Amount, Total_EMI_per_month, Amount_invested_monthly, Payment_Behaviour, Monthly_Balance, Credit_Score]\n",
      "Index: []\n",
      "\n",
      "[0 rows x 28 columns]\n"
     ]
    }
   ],
   "source": [
    "duplicates = df[df.duplicated()]\n",
    "print(duplicates)"
   ]
  },
  {
   "cell_type": "markdown",
   "metadata": {},
   "source": [
    "# Drop Columns"
   ]
  },
  {
   "cell_type": "code",
   "execution_count": 37,
   "metadata": {},
   "outputs": [],
   "source": [
    "def drop_columns(df, columns_to_drop):\n",
    "    # Drop columns, ignoring errors if a column does not exist\n",
    "    df = df.drop(columns=columns_to_drop, axis=1, errors='ignore')\n",
    "\n",
    "    # Verify and print confirmation for dropped columns\n",
    "    for col in columns_to_drop:\n",
    "        if col not in df.columns:\n",
    "            print(f\"Column '{col}' dropped successfully.\")\n",
    "\n",
    "    return df  "
   ]
  },
  {
   "cell_type": "code",
   "execution_count": 38,
   "metadata": {},
   "outputs": [
    {
     "name": "stdout",
     "output_type": "stream",
     "text": [
      "Column 'ID' dropped successfully.\n",
      "Column 'Name' dropped successfully.\n",
      "Column 'SSN' dropped successfully.\n",
      "Column 'Customer_ID' dropped successfully.\n"
     ]
    }
   ],
   "source": [
    "columns_to_drop = [\n",
    "    \"ID\",\n",
    "    \"Name\",  \n",
    "    \"SSN\",  \n",
    "    \"Customer_ID\",  \n",
    "]\n",
    "\n",
    "df = drop_columns(df, columns_to_drop)  "
   ]
  },
  {
   "cell_type": "markdown",
   "metadata": {},
   "source": [
    "# Correct Data Types"
   ]
  },
  {
   "cell_type": "code",
   "execution_count": 39,
   "metadata": {},
   "outputs": [
    {
     "data": {
      "text/plain": [
       "Month                        object\n",
       "Age                          object\n",
       "Occupation                   object\n",
       "Annual_Income                object\n",
       "Monthly_Inhand_Salary       float64\n",
       "Num_Bank_Accounts             int64\n",
       "Num_Credit_Card               int64\n",
       "Interest_Rate                 int64\n",
       "Num_of_Loan                  object\n",
       "Type_of_Loan                 object\n",
       "Delay_from_due_date           int64\n",
       "Num_of_Delayed_Payment       object\n",
       "Changed_Credit_Limit         object\n",
       "Num_Credit_Inquiries        float64\n",
       "Credit_Mix                   object\n",
       "Outstanding_Debt             object\n",
       "Credit_Utilization_Ratio    float64\n",
       "Credit_History_Age           object\n",
       "Payment_of_Min_Amount        object\n",
       "Total_EMI_per_month         float64\n",
       "Amount_invested_monthly      object\n",
       "Payment_Behaviour            object\n",
       "Monthly_Balance              object\n",
       "Credit_Score                 object\n",
       "dtype: object"
      ]
     },
     "execution_count": 39,
     "metadata": {},
     "output_type": "execute_result"
    }
   ],
   "source": [
    "df.dtypes"
   ]
  },
  {
   "cell_type": "code",
   "execution_count": 40,
   "metadata": {},
   "outputs": [],
   "source": [
    "# Annual_Income (object → float64)\n",
    "df['Annual_Income'] = df['Annual_Income'].astype(str).str.replace(r'[^\\d.]', '', regex=True).astype(float)\n",
    "\n",
    "# Num_of_Loan (object → int64)\n",
    "df['Num_of_Loan'] = pd.to_numeric(df['Num_of_Loan'], errors='coerce').fillna(0).astype(int)\n",
    "\n",
    "# Num_of_Delayed_Payment (object → int64)\n",
    "df['Num_of_Delayed_Payment'] = pd.to_numeric(df['Num_of_Delayed_Payment'], errors='coerce').fillna(0).astype(int)\n",
    "\n",
    "# Changed_Credit_Limit (object → float64)\n",
    "df['Changed_Credit_Limit'] = pd.to_numeric(df['Changed_Credit_Limit'], errors='coerce')\n",
    "\n",
    "# Outstanding_Debt (object → float64)\n",
    "df['Outstanding_Debt'] = df['Outstanding_Debt'].str.replace(r'[^\\d.]', '', regex=True).astype(float)\n",
    "\n",
    "# Amount_invested_monthly (object → float64)\n",
    "df['Amount_invested_monthly'] = pd.to_numeric(df['Amount_invested_monthly'], errors='coerce')\n",
    "\n",
    "# Monthly_Balance (object → float64)\n",
    "df['Monthly_Balance'] = pd.to_numeric(df['Monthly_Balance'], errors='coerce')\n",
    "\n",
    "# Age (object → int64)\n",
    "df['Age'] = pd.to_numeric(df['Age'], errors='coerce')\n",
    "age_median = df['Age'].median()  # Compute median of non-NaN values\n",
    "df['Age'] = df['Age'].fillna(age_median).astype(int)"
   ]
  },
  {
   "cell_type": "markdown",
   "metadata": {},
   "source": [
    "# Clean Categorical Columns"
   ]
  },
  {
   "cell_type": "code",
   "execution_count": 41,
   "metadata": {},
   "outputs": [
    {
     "name": "stdout",
     "output_type": "stream",
     "text": [
      "Unique Occupations after cleaning:\n",
      "['Scientist' 'Unknown' 'Teacher' 'Engineer' 'Entrepreneur' 'Developer'\n",
      " 'Lawyer' 'Media_Manager' 'Doctor' 'Journalist' 'Manager' 'Accountant'\n",
      " 'Musician' 'Mechanic' 'Writer' 'Architect']\n",
      "\n",
      "Occupation distribution after cleaning:\n",
      "Occupation\n",
      "Unknown          7062\n",
      "Lawyer           6575\n",
      "Architect        6355\n",
      "Engineer         6350\n",
      "Scientist        6299\n",
      "Mechanic         6291\n",
      "Accountant       6271\n",
      "Developer        6235\n",
      "Media_Manager    6232\n",
      "Teacher          6215\n",
      "Entrepreneur     6174\n",
      "Doctor           6087\n",
      "Journalist       6085\n",
      "Manager          5973\n",
      "Musician         5911\n",
      "Writer           5885\n",
      "Name: count, dtype: int64\n"
     ]
    }
   ],
   "source": [
    "df['Occupation'] = df['Occupation'].replace(\"_______\", \"Unknown\")\n",
    "\n",
    "# Standardize format by converting to title case and removing extra spaces\n",
    "df['Occupation'] = df['Occupation'].str.title().str.strip()\n",
    "\n",
    "# Check for duplicates by printing unique values\n",
    "print(\"Unique Occupations after cleaning:\")\n",
    "print(df['Occupation'].unique())\n",
    "\n",
    "# Verify the cleaned column with value counts\n",
    "print(\"\\nOccupation distribution after cleaning:\")\n",
    "print(df['Occupation'].value_counts())"
   ]
  },
  {
   "cell_type": "code",
   "execution_count": 42,
   "metadata": {},
   "outputs": [
    {
     "name": "stdout",
     "output_type": "stream",
     "text": [
      "Unique values in Credit_Mix after cleaning:\n",
      "['Unknown' 'Good' 'Standard' 'Bad']\n"
     ]
    }
   ],
   "source": [
    "df['Credit_Mix'] = df['Credit_Mix'].fillna(\"Unknown\")\n",
    "# Replace \"_\" with \"Unknown\"\n",
    "df['Credit_Mix'] = df['Credit_Mix'].replace(\"_\", \"Unknown\")\n",
    "# Standardize format - convert to title case and strip extra spaces\n",
    "df['Credit_Mix'] = df['Credit_Mix'].str.title().str.strip()\n",
    "\n",
    "print(\"Unique values in Credit_Mix after cleaning:\")\n",
    "print(df['Credit_Mix'].unique())"
   ]
  },
  {
   "cell_type": "code",
   "execution_count": 43,
   "metadata": {},
   "outputs": [
    {
     "name": "stdout",
     "output_type": "stream",
     "text": [
      "Unique values in Payment_of_Min_Amount after cleaning:\n",
      "['No' 'Unknown' 'Yes']\n"
     ]
    }
   ],
   "source": [
    "df['Payment_of_Min_Amount'] = df['Payment_of_Min_Amount'].fillna(\"Unknown\")\n",
    "# Replace \"NM\" with \"Unknown\"\n",
    "df['Payment_of_Min_Amount'] = df['Payment_of_Min_Amount'].replace(\"NM\", \"Unknown\")\n",
    "# Standardize format - convert to title case and strip extra spaces\n",
    "df['Payment_of_Min_Amount'] = df['Payment_of_Min_Amount'].str.title().str.strip()\n",
    "\n",
    "print(\"Unique values in Payment_of_Min_Amount after cleaning:\")\n",
    "print(df['Payment_of_Min_Amount'].unique())"
   ]
  },
  {
   "cell_type": "code",
   "execution_count": 44,
   "metadata": {},
   "outputs": [
    {
     "data": {
      "text/plain": [
       "0         High_spent_Small_value_payments\n",
       "1          Low_spent_Large_value_payments\n",
       "2         Low_spent_Medium_value_payments\n",
       "3          Low_spent_Small_value_payments\n",
       "4        High_spent_Medium_value_payments\n",
       "                       ...               \n",
       "99995     High_spent_Large_value_payments\n",
       "99996    High_spent_Medium_value_payments\n",
       "99997     High_spent_Large_value_payments\n",
       "99998      Low_spent_Large_value_payments\n",
       "99999                              !@9#%8\n",
       "Name: Payment_Behaviour, Length: 100000, dtype: object"
      ]
     },
     "execution_count": 44,
     "metadata": {},
     "output_type": "execute_result"
    }
   ],
   "source": [
    "df['Payment_Behaviour']"
   ]
  },
  {
   "cell_type": "code",
   "execution_count": 45,
   "metadata": {},
   "outputs": [
    {
     "name": "stdout",
     "output_type": "stream",
     "text": [
      "Unique values in Payment_Behaviour after cleaning:\n",
      "['High Spent Small Value Payments' 'Low Spent Large Value Payments'\n",
      " 'Low Spent Medium Value Payments' 'Low Spent Small Value Payments'\n",
      " 'High Spent Medium Value Payments' 'Unknown'\n",
      " 'High Spent Large Value Payments']\n",
      "\n",
      "Payment_Behaviour distribution after cleaning:\n",
      "Payment_Behaviour\n",
      "Low Spent Small Value Payments      25513\n",
      "High Spent Medium Value Payments    17540\n",
      "Low Spent Medium Value Payments     13861\n",
      "High Spent Large Value Payments     13721\n",
      "High Spent Small Value Payments     11340\n",
      "Low Spent Large Value Payments      10425\n",
      "Unknown                              7600\n",
      "Name: count, dtype: int64\n"
     ]
    }
   ],
   "source": [
    "# Replace NaN values with \"Unknown\"\n",
    "df['Payment_Behaviour'] = df['Payment_Behaviour'].fillna(\"Unknown\")\n",
    "# Replace special characters with \"Unknown\"\n",
    "df['Payment_Behaviour'] = df['Payment_Behaviour'].replace(\"!@9#%8\", \"Unknown\")\n",
    "# Standardize format - replace underscores with spaces, convert to title case, and strip extra spaces\n",
    "df['Payment_Behaviour'] = df['Payment_Behaviour'].str.replace(\"_\", \" \").str.title().str.strip()\n",
    "\n",
    "# Check for duplicates by printing unique values\n",
    "print(\"Unique values in Payment_Behaviour after cleaning:\")\n",
    "unique_values = df['Payment_Behaviour'].unique()\n",
    "print(unique_values)\n",
    "\n",
    "duplicate_mapping = {\n",
    "    \"Low Spent Small\": \"Low Spent Small Value Payments\",\n",
    "    \"High Spent Small\": \"High Spent Small Value Payments\",\n",
    "    \"Low Spent Large\": \"Low Spent Large Value Payments\",\n",
    "    \"Low Spent Medium\": \"Low Spent Medium Value Payments\",\n",
    "    \"High Spent Medium\": \"High Spent Medium Value Payments\",\n",
    "    \"High Spent Large\": \"High Spent Large Value Payments\",\n",
    "    \"Unknown\": \"Unknown\"\n",
    "}\n",
    "\n",
    "df['Payment_Behaviour'] = df['Payment_Behaviour'].replace(duplicate_mapping)\n",
    "\n",
    "# Verify the cleaned column with value counts\n",
    "print(\"\\nPayment_Behaviour distribution after cleaning:\")\n",
    "print(df['Payment_Behaviour'].value_counts())"
   ]
  },
  {
   "cell_type": "code",
   "execution_count": 46,
   "metadata": {},
   "outputs": [
    {
     "name": "stdout",
     "output_type": "stream",
     "text": [
      "Unique values before cleaning: ['Good' 'Standard' 'Poor']\n",
      "Unique values after cleaning: ['Good' 'Standard' 'Poor']\n"
     ]
    }
   ],
   "source": [
    "print(\"Unique values before cleaning:\", df['Credit_Score'].unique())\n",
    "\n",
    "# Standardize the format - strip extra spaces and convert to title case\n",
    "df['Credit_Score'] = df['Credit_Score'].str.strip().str.title()\n",
    "\n",
    "# Check unique values after cleaning\n",
    "print(\"Unique values after cleaning:\", df['Credit_Score'].unique())"
   ]
  },
  {
   "cell_type": "markdown",
   "metadata": {},
   "source": [
    "# Handle Special Columns"
   ]
  },
  {
   "cell_type": "code",
   "execution_count": 47,
   "metadata": {},
   "outputs": [
    {
     "name": "stdout",
     "output_type": "stream",
     "text": [
      "0     January\n",
      "1    February\n",
      "2       March\n",
      "3       April\n",
      "4         May\n",
      "Name: Month, dtype: object\n"
     ]
    }
   ],
   "source": [
    "# Month \n",
    "month_order = ['January', 'February', 'March', 'April', 'May', 'June', \n",
    "               'July', 'August', 'September', 'October', 'November', 'December']\n",
    "\n",
    "df['Month_number_2'] = pd.Categorical(df['Month'], categories=month_order, ordered=True)\n",
    "print(df['Month'].head())\n"
   ]
  },
  {
   "cell_type": "code",
   "execution_count": 48,
   "metadata": {},
   "outputs": [
    {
     "name": "stdout",
     "output_type": "stream",
     "text": [
      "0        265.0\n",
      "1          NaN\n",
      "2        267.0\n",
      "3        268.0\n",
      "4        269.0\n",
      "         ...  \n",
      "99995    378.0\n",
      "99996    379.0\n",
      "99997    380.0\n",
      "99998    381.0\n",
      "99999    382.0\n",
      "Name: Credit_History_Age, Length: 100000, dtype: float64\n"
     ]
    }
   ],
   "source": [
    "# Credit_History_Age\n",
    "# Function to convert string to total months\n",
    "def convert_to_months(age_str):\n",
    "    if pd.isna(age_str):  # Check for NaN\n",
    "        return np.nan     # Return NaN for missing values\n",
    "    # Split the string and extract years and months\n",
    "    parts = age_str.split()\n",
    "    years = int(parts[0])   # First number is years\n",
    "    months = int(parts[3])  # Fourth part is months\n",
    "    # Calculate total months\n",
    "    total_months = (years * 12) + months\n",
    "    return total_months\n",
    "\n",
    "# Apply the function to the column\n",
    "df['Credit_History_Age'] = df['Credit_History_Age'].apply(convert_to_months)\n",
    "\n",
    "# Ensure the column is of type float\n",
    "df['Credit_History_Age'] = df['Credit_History_Age'].astype(float)\n",
    "print(df['Credit_History_Age'])\n"
   ]
  },
  {
   "cell_type": "code",
   "execution_count": 49,
   "metadata": {},
   "outputs": [
    {
     "data": {
      "text/plain": [
       "Type_of_Loan\n",
       "NaN                                         11408\n",
       "Not Specified                                1408\n",
       "Credit-Builder Loan                          1280\n",
       "Personal Loan                                1272\n",
       "Debt Consolidation Loan                      1264\n",
       "Student Loan                                 1240\n",
       "Payday Loan                                  1200\n",
       "Mortgage Loan                                1176\n",
       "Auto Loan                                    1152\n",
       "Home Equity Loan                             1136\n",
       "Personal Loan, and Student Loan               320\n",
       "Not Specified, and Payday Loan                272\n",
       "Mortgage Loan, and Home Equity Loan           264\n",
       "Student Loan, and Payday Loan                 256\n",
       "Student Loan, and Credit-Builder Loan         248\n",
       "Credit-Builder Loan, and Not Specified        248\n",
       "Payday Loan, and Debt Consolidation Loan      240\n",
       "Payday Loan, and Auto Loan                    240\n",
       "Mortgage Loan, and Not Specified              232\n",
       "Payday Loan, and Personal Loan                232\n",
       "Name: count, dtype: int64"
      ]
     },
     "execution_count": 49,
     "metadata": {},
     "output_type": "execute_result"
    }
   ],
   "source": [
    "df['Type_of_Loan'].value_counts(dropna=False).head(20)"
   ]
  },
  {
   "cell_type": "code",
   "execution_count": 50,
   "metadata": {},
   "outputs": [],
   "source": [
    "df['Type_of_Loan'] = df['Type_of_Loan'].apply(lambda x: x.lower().replace\n",
    "('and ', '').replace(', ', ',').strip() if pd.notna(x) else x)"
   ]
  },
  {
   "cell_type": "code",
   "execution_count": 51,
   "metadata": {},
   "outputs": [
    {
     "data": {
      "text/plain": [
       "{0: 'auto loan',\n",
       " 1: 'credit-builder loan',\n",
       " 2: 'debt consolidation loan',\n",
       " 3: 'home equity loan',\n",
       " 4: 'mortgage loan',\n",
       " 5: 'not specified',\n",
       " 6: 'payday loan',\n",
       " 7: 'personal loan',\n",
       " 8: 'student loan'}"
      ]
     },
     "execution_count": 51,
     "metadata": {},
     "output_type": "execute_result"
    }
   ],
   "source": [
    "def get_Diff_Values_Colum(df_column, diff_value=[], sep=',', replace=''):   \n",
    "    column = df_column.dropna()\n",
    "    for i in column:\n",
    "        if sep not in i and i not in diff_value:\n",
    "            diff_value.append(i)\n",
    "        else:\n",
    "            for data in map(lambda x:x.strip(), re.sub(replace, '', i).split(sep)):\n",
    "                if not data in diff_value:\n",
    "                    diff_value.append(data)\n",
    "    return dict(enumerate(sorted(diff_value)))\n",
    "\n",
    "get_Diff_Values_Colum(df['Type_of_Loan'])"
   ]
  },
  {
   "cell_type": "code",
   "execution_count": 52,
   "metadata": {},
   "outputs": [
    {
     "data": {
      "text/plain": [
       "0        auto loan,credit-builder loan,personal loan,ho...\n",
       "1        auto loan,credit-builder loan,personal loan,ho...\n",
       "2        auto loan,credit-builder loan,personal loan,ho...\n",
       "3        auto loan,credit-builder loan,personal loan,ho...\n",
       "4        auto loan,credit-builder loan,personal loan,ho...\n",
       "                               ...                        \n",
       "99995                               auto loan,student loan\n",
       "99996                               auto loan,student loan\n",
       "99997                               auto loan,student loan\n",
       "99998                               auto loan,student loan\n",
       "99999                               auto loan,student loan\n",
       "Name: Type_of_Loan, Length: 100000, dtype: object"
      ]
     },
     "execution_count": 52,
     "metadata": {},
     "output_type": "execute_result"
    }
   ],
   "source": [
    "df['Type_of_Loan']"
   ]
  },
  {
   "cell_type": "markdown",
   "metadata": {},
   "source": [
    "# Handling Missing Data"
   ]
  },
  {
   "cell_type": "code",
   "execution_count": null,
   "metadata": {},
   "outputs": [],
   "source": []
  },
  {
   "cell_type": "code",
   "execution_count": 53,
   "metadata": {},
   "outputs": [
    {
     "name": "stdout",
     "output_type": "stream",
     "text": [
      "### Missing Data Report for Dataset ###\n",
      "Total Rows: 100000, Total Columns: 25\n",
      "Total Entries (cells): 2500000\n",
      "\n",
      "#### Variables with Missing Data ####\n",
      "Monthly_Inhand_Salary: 15002 missing values (15.00%)\n",
      "Type_of_Loan: 11408 missing values (11.41%)\n",
      "Changed_Credit_Limit: 2091 missing values (2.09%)\n",
      "Num_Credit_Inquiries: 1965 missing values (1.97%)\n",
      "Credit_History_Age: 9030 missing values (9.03%)\n",
      "Amount_invested_monthly: 8784 missing values (8.78%)\n",
      "Monthly_Balance: 1209 missing values (1.21%)\n",
      "\n",
      "#### Overall Missing Data ####\n",
      "Total Missing Values: 49489\n",
      "Total Missing Percentage: 1.98%\n"
     ]
    },
    {
     "data": {
      "image/png": "[encoded data removed]",
      "text/plain": [
       "<Figure size 1200x800 with 2 Axes>"
      ]
     },
     "metadata": {},
     "output_type": "display_data"
    }
   ],
   "source": [
    "from lib.clean_data import report_missing_data\n",
    "report_missing_data(df)"
   ]
  },
  {
   "cell_type": "code",
   "execution_count": 54,
   "metadata": {},
   "outputs": [],
   "source": [
    "# Credit_History_Age\n",
    "median_value = df['Credit_History_Age'].median()\n",
    "df['Credit_History_Age'] = df['Credit_History_Age'].fillna(median_value)"
   ]
  },
  {
   "cell_type": "code",
   "execution_count": 55,
   "metadata": {},
   "outputs": [],
   "source": [
    "df['Type_of_Loan'] = df['Type_of_Loan'].fillna(\"Unknown\")"
   ]
  },
  {
   "cell_type": "code",
   "execution_count": 60,
   "metadata": {},
   "outputs": [],
   "source": [
    "df['Monthly_Inhand_Salary'] = df['Monthly_Inhand_Salary'].fillna(df['Monthly_Inhand_Salary'].median())"
   ]
  },
  {
   "cell_type": "code",
   "execution_count": 57,
   "metadata": {},
   "outputs": [],
   "source": [
    "for col in ['Changed_Credit_Limit', 'Num_Credit_Inquiries', 'Amount_invested_monthly', 'Monthly_Balance']:\n",
    "    df[col] = df[col].fillna(df[col].median())"
   ]
  },
  {
   "cell_type": "code",
   "execution_count": null,
   "metadata": {},
   "outputs": [],
   "source": [
    "# from sklearn.ensemble import RandomForestRegressor\n",
    "# from sklearn.impute import SimpleImputer\n",
    "\n",
    "# # Separate rows with and without missing Monthly_Inhand_Salary\n",
    "# train_data = df[df['Monthly_Inhand_Salary'].notna()]\n",
    "# test_data = df[df['Monthly_Inhand_Salary'].isna()]\n",
    "\n",
    "# # Features for prediction (adjust based on your data)\n",
    "# features = ['Annual_Income', 'Num_of_Loan']  # Example features\n",
    "# X_train = train_data[features]\n",
    "# y_train = train_data['Monthly_Inhand_Salary']\n",
    "# X_test = test_data[features]\n",
    "\n",
    "# # Train model and predict\n",
    "# model = RandomForestRegressor()\n",
    "# model.fit(X_train, y_train)\n",
    "# predicted_values = model.predict(X_test)\n",
    "\n",
    "# # Fill missing values\n",
    "# df.loc[df['Monthly_Inhand_Salary'].isna(), 'Monthly_Inhand_Salary'] = predicted_values"
   ]
  },
  {
   "cell_type": "code",
   "execution_count": 59,
   "metadata": {},
   "outputs": [
    {
     "name": "stdout",
     "output_type": "stream",
     "text": [
      "Missing values after imputation:\n",
      " Month                       0\n",
      "Age                         0\n",
      "Occupation                  0\n",
      "Annual_Income               0\n",
      "Monthly_Inhand_Salary       0\n",
      "Num_Bank_Accounts           0\n",
      "Num_Credit_Card             0\n",
      "Interest_Rate               0\n",
      "Num_of_Loan                 0\n",
      "Type_of_Loan                0\n",
      "Delay_from_due_date         0\n",
      "Num_of_Delayed_Payment      0\n",
      "Changed_Credit_Limit        0\n",
      "Num_Credit_Inquiries        0\n",
      "Credit_Mix                  0\n",
      "Outstanding_Debt            0\n",
      "Credit_Utilization_Ratio    0\n",
      "Credit_History_Age          0\n",
      "Payment_of_Min_Amount       0\n",
      "Total_EMI_per_month         0\n",
      "Amount_invested_monthly     0\n",
      "Payment_Behaviour           0\n",
      "Monthly_Balance             0\n",
      "Credit_Score                0\n",
      "Month_number_2              0\n",
      "dtype: int64\n"
     ]
    }
   ],
   "source": [
    "print(\"Missing values after imputation:\\n\", df.isna().sum())"
   ]
  },
  {
   "cell_type": "markdown",
   "metadata": {},
   "source": [
    "# Check for Outliers"
   ]
  },
  {
   "cell_type": "code",
   "execution_count": null,
   "metadata": {},
   "outputs": [],
   "source": []
  }
 ],
 "metadata": {
  "kernelspec": {
   "display_name": "base",
   "language": "python",
   "name": "python3"
  },
  "language_info": {
   "codemirror_mode": {
    "name": "ipython",
    "version": 3
   },
   "file_extension": ".py",
   "mimetype": "text/x-python",
   "name": "python",
   "nbconvert_exporter": "python",
   "pygments_lexer": "ipython3",
   "version": "3.12.2"
  }
 },
 "nbformat": 4,
 "nbformat_minor": 2
}
