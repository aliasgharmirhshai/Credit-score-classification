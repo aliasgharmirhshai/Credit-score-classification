{
 "cells": [
  {
   "cell_type": "code",
   "execution_count": 1,
   "metadata": {},
   "outputs": [
    {
     "ename": "NameError",
     "evalue": "name 'df' is not defined",
     "output_type": "error",
     "traceback": [
      "\u001b[0;31m---------------------------------------------------------------------------\u001b[0m",
      "\u001b[0;31mNameError\u001b[0m                                 Traceback (most recent call last)",
      "Cell \u001b[0;32mIn[1], line 3\u001b[0m\n\u001b[1;32m      1\u001b[0m \u001b[38;5;66;03m# dropping unnecessary columns for modelling\u001b[39;00m\n\u001b[1;32m      2\u001b[0m columns_to_drop \u001b[38;5;241m=\u001b[39m [\u001b[38;5;124m\"\u001b[39m\u001b[38;5;124mID\u001b[39m\u001b[38;5;124m\"\u001b[39m, \u001b[38;5;124m\"\u001b[39m\u001b[38;5;124mCustomer_ID\u001b[39m\u001b[38;5;124m\"\u001b[39m, \u001b[38;5;124m\"\u001b[39m\u001b[38;5;124mMonth\u001b[39m\u001b[38;5;124m\"\u001b[39m, \u001b[38;5;124m\"\u001b[39m\u001b[38;5;124mName\u001b[39m\u001b[38;5;124m\"\u001b[39m, \u001b[38;5;124m\"\u001b[39m\u001b[38;5;124mSSN\u001b[39m\u001b[38;5;124m\"\u001b[39m]\n\u001b[0;32m----> 3\u001b[0m df \u001b[38;5;241m=\u001b[39m \u001b[43mdf\u001b[49m\u001b[38;5;241m.\u001b[39mdrop(columns\u001b[38;5;241m=\u001b[39mcolumns_to_drop)\n",
      "\u001b[0;31mNameError\u001b[0m: name 'df' is not defined"
     ]
    }
   ],
   "source": [
    "# dropping unnecessary columns for modelling\n",
    "columns_to_drop = [\"ID\", \"Customer_ID\", \"Month\", \"Name\", \"SSN\"]\n",
    "df = df.drop(columns=columns_to_drop)"
   ]
  },
  {
   "cell_type": "code",
   "execution_count": null,
   "metadata": {},
   "outputs": [],
   "source": [
    "def convert_data_types(df):\n",
    "    \"\"\"\n",
    "    Convert incorrect data types in the credit score dataset to appropriate types.\n",
    "    \n",
    "    Parameters:\n",
    "    df (pandas.DataFrame): The input dataframe with incorrect data types\n",
    "    \n",
    "    Returns:\n",
    "    pandas.DataFrame: A dataframe with corrected data types\n",
    "    \"\"\"\n",
    "    # Create a copy to avoid modifying the original dataframe\n",
    "    df_converted = df.copy()\n",
    "    \n",
    "    # 1. Convert Age from object to int64\n",
    "    df_converted['Age'] = pd.to_numeric(df_converted['Age'], errors='coerce').astype('Int64')\n",
    "    \n",
    "    # 2. Convert Annual_Income from object to float64\n",
    "    # Remove non-numeric characters (like $, commas, etc.)\n",
    "    df_converted['Annual_Income'] = df_converted['Annual_Income'].replace(r'[$,]', '', regex=True)\n",
    "    df_converted['Annual_Income'] = pd.to_numeric(df_converted['Annual_Income'], errors='coerce')\n",
    "    \n",
    "    # 3. Convert Num_of_Loan from object to int64\n",
    "    df_converted['Num_of_Loan'] = pd.to_numeric(df_converted['Num_of_Loan'], errors='coerce').astype('Int64')\n",
    "    \n",
    "    # 4. Convert Num_of_Delayed_Payment from object to int64\n",
    "    df_converted['Num_of_Delayed_Payment'] = pd.to_numeric(df_converted['Num_of_Delayed_Payment'], errors='coerce').astype('Int64')\n",
    "    \n",
    "    # 5. Convert Changed_Credit_Limit from object to float64\n",
    "    df_converted['Changed_Credit_Limit'] = pd.to_numeric(df_converted['Changed_Credit_Limit'], errors='coerce')\n",
    "    \n",
    "    # 6. Convert Outstanding_Debt from object to float64\n",
    "    df_converted['Outstanding_Debt'] = df_converted['Outstanding_Debt'].replace(r'[$,]', '', regex=True)\n",
    "    df_converted['Outstanding_Debt'] = pd.to_numeric(df_converted['Outstanding_Debt'], errors='coerce')\n",
    "    \n",
    "    # 7. Convert Credit_History_Age from object to float64 (in years)\n",
    "    def extract_credit_history_age(age_str):\n",
    "        if pd.isna(age_str) or not isinstance(age_str, str):\n",
    "            return np.nan\n",
    "        \n",
    "        years = re.search(r'(\\d+)\\s*Years?', age_str)\n",
    "        months = re.search(r'(\\d+)\\s*Months?', age_str)\n",
    "        \n",
    "        total_years = 0\n",
    "        if years:\n",
    "            total_years += int(years.group(1))\n",
    "        if months:\n",
    "            total_years += int(months.group(1)) / 12\n",
    "            \n",
    "        return total_years if total_years > 0 else np.nan\n",
    "    \n",
    "    df_converted['Credit_History_Age'] = df_converted['Credit_History_Age'].apply(extract_credit_history_age)\n",
    "    \n",
    "    # 8. Convert Amount_invested_monthly from object to float64\n",
    "    df_converted['Amount_invested_monthly'] = df_converted['Amount_invested_monthly'].replace(r'[$,]', '', regex=True)\n",
    "    df_converted['Amount_invested_monthly'] = pd.to_numeric(df_converted['Amount_invested_monthly'], errors='coerce')\n",
    "    \n",
    "    # 9. Convert Monthly_Balance from object to float64\n",
    "    df_converted['Monthly_Balance'] = df_converted['Monthly_Balance'].replace(r'[$,]', '', regex=True)\n",
    "    df_converted['Monthly_Balance'] = pd.to_numeric(df_converted['Monthly_Balance'], errors='coerce')\n",
    "    \n",
    "    # 10. Convert Credit_Score if needed (keeping as object if it's categorical)\n",
    "    # Check if Credit_Score contains only numeric values\n",
    "    try:\n",
    "        if df_converted['Credit_Score'].str.isnumeric().all():\n",
    "            df_converted['Credit_Score'] = pd.to_numeric(df_converted['Credit_Score'], errors='coerce')\n",
    "    except:\n",
    "        # Keep as is if we can't determine if it's numeric\n",
    "        pass\n",
    "    \n",
    "    return df_converted"
   ]
  },
  {
   "cell_type": "code",
   "execution_count": null,
   "metadata": {},
   "outputs": [],
   "source": [
    "df_converted = convert_data_types(df)\n",
    "print(df_converted.dtypes)  # Verify the data types"
   ]
  },
  {
   "cell_type": "code",
   "execution_count": null,
   "metadata": {},
   "outputs": [],
   "source": []
  }
 ],
 "metadata": {
  "kernelspec": {
   "display_name": "base",
   "language": "python",
   "name": "python3"
  },
  "language_info": {
   "codemirror_mode": {
    "name": "ipython",
    "version": 3
   },
   "file_extension": ".py",
   "mimetype": "text/x-python",
   "name": "python",
   "nbconvert_exporter": "python",
   "pygments_lexer": "ipython3",
   "version": "3.12.2"
  }
 },
 "nbformat": 4,
 "nbformat_minor": 2
}
