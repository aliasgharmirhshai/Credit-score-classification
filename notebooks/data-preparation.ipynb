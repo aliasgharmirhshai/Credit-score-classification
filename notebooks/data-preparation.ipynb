{
 "cells": [
  {
   "cell_type": "code",
   "execution_count": 126,
   "metadata": {},
   "outputs": [],
   "source": [
    "import pandas as pd\n",
    "import numpy as np\n",
    "import matplotlib.pyplot as plt\n",
    "import seaborn as sns\n",
    "import os\n",
    "from scipy import stats\n",
    "import re"
   ]
  },
  {
   "cell_type": "markdown",
   "metadata": {},
   "source": [
    "# Load Data"
   ]
  },
  {
   "cell_type": "code",
   "execution_count": 127,
   "metadata": {},
   "outputs": [],
   "source": [
    "def load_data(data_path=\"../data/\"):\n",
    "    \"\"\"Load the credit scoring dataset.\"\"\"\n",
    "    # Check if the data directory exists\n",
    "    if not os.path.exists(data_path):\n",
    "        raise FileNotFoundError(f\"Data directory '{data_path}' not found.\")\n",
    "    \n",
    "    # Look for CSV files in the data directory\n",
    "    csv_files = [f for f in os.listdir(data_path) if f.endswith('train.csv')]\n",
    "    \n",
    "    if not csv_files:\n",
    "        raise FileNotFoundError(f\"No CSV files found in '{data_path}'.\")\n",
    "    \n",
    "    # Load the first CSV file found\n",
    "    file_path = os.path.join(data_path, csv_files[0])\n",
    "    print(f\"Loading data from: {file_path}\")\n",
    "    \n",
    "    return pd.read_csv(file_path)\n"
   ]
  },
  {
   "cell_type": "code",
   "execution_count": 128,
   "metadata": {},
   "outputs": [
    {
     "name": "stdout",
     "output_type": "stream",
     "text": [
      "Loading data from: ../data/train.csv\n"
     ]
    },
    {
     "name": "stderr",
     "output_type": "stream",
     "text": [
      "/tmp/ipykernel_7900/948120084.py:17: DtypeWarning: Columns (26) have mixed types. Specify dtype option on import or set low_memory=False.\n",
      "  return pd.read_csv(file_path)\n"
     ]
    },
    {
     "data": {
      "text/html": [
       "<div>\n",
       "<style scoped>\n",
       "    .dataframe tbody tr th:only-of-type {\n",
       "        vertical-align: middle;\n",
       "    }\n",
       "\n",
       "    .dataframe tbody tr th {\n",
       "        vertical-align: top;\n",
       "    }\n",
       "\n",
       "    .dataframe thead th {\n",
       "        text-align: right;\n",
       "    }\n",
       "</style>\n",
       "<table border=\"1\" class=\"dataframe\">\n",
       "  <thead>\n",
       "    <tr style=\"text-align: right;\">\n",
       "      <th></th>\n",
       "      <th>ID</th>\n",
       "      <th>Customer_ID</th>\n",
       "      <th>Month</th>\n",
       "      <th>Name</th>\n",
       "      <th>Age</th>\n",
       "      <th>SSN</th>\n",
       "      <th>Occupation</th>\n",
       "      <th>Annual_Income</th>\n",
       "      <th>Monthly_Inhand_Salary</th>\n",
       "      <th>Num_Bank_Accounts</th>\n",
       "      <th>...</th>\n",
       "      <th>Credit_Mix</th>\n",
       "      <th>Outstanding_Debt</th>\n",
       "      <th>Credit_Utilization_Ratio</th>\n",
       "      <th>Credit_History_Age</th>\n",
       "      <th>Payment_of_Min_Amount</th>\n",
       "      <th>Total_EMI_per_month</th>\n",
       "      <th>Amount_invested_monthly</th>\n",
       "      <th>Payment_Behaviour</th>\n",
       "      <th>Monthly_Balance</th>\n",
       "      <th>Credit_Score</th>\n",
       "    </tr>\n",
       "  </thead>\n",
       "  <tbody>\n",
       "    <tr>\n",
       "      <th>0</th>\n",
       "      <td>0x1602</td>\n",
       "      <td>CUS_0xd40</td>\n",
       "      <td>January</td>\n",
       "      <td>Aaron Maashoh</td>\n",
       "      <td>23</td>\n",
       "      <td>821-00-0265</td>\n",
       "      <td>Scientist</td>\n",
       "      <td>19114.12</td>\n",
       "      <td>1824.843333</td>\n",
       "      <td>3</td>\n",
       "      <td>...</td>\n",
       "      <td>_</td>\n",
       "      <td>809.98</td>\n",
       "      <td>26.822620</td>\n",
       "      <td>22 Years and 1 Months</td>\n",
       "      <td>No</td>\n",
       "      <td>49.574949</td>\n",
       "      <td>80.41529543900253</td>\n",
       "      <td>High_spent_Small_value_payments</td>\n",
       "      <td>312.49408867943663</td>\n",
       "      <td>Good</td>\n",
       "    </tr>\n",
       "    <tr>\n",
       "      <th>1</th>\n",
       "      <td>0x1603</td>\n",
       "      <td>CUS_0xd40</td>\n",
       "      <td>February</td>\n",
       "      <td>Aaron Maashoh</td>\n",
       "      <td>23</td>\n",
       "      <td>821-00-0265</td>\n",
       "      <td>Scientist</td>\n",
       "      <td>19114.12</td>\n",
       "      <td>NaN</td>\n",
       "      <td>3</td>\n",
       "      <td>...</td>\n",
       "      <td>Good</td>\n",
       "      <td>809.98</td>\n",
       "      <td>31.944960</td>\n",
       "      <td>NaN</td>\n",
       "      <td>No</td>\n",
       "      <td>49.574949</td>\n",
       "      <td>118.28022162236736</td>\n",
       "      <td>Low_spent_Large_value_payments</td>\n",
       "      <td>284.62916249607184</td>\n",
       "      <td>Good</td>\n",
       "    </tr>\n",
       "    <tr>\n",
       "      <th>2</th>\n",
       "      <td>0x1604</td>\n",
       "      <td>CUS_0xd40</td>\n",
       "      <td>March</td>\n",
       "      <td>Aaron Maashoh</td>\n",
       "      <td>-500</td>\n",
       "      <td>821-00-0265</td>\n",
       "      <td>Scientist</td>\n",
       "      <td>19114.12</td>\n",
       "      <td>NaN</td>\n",
       "      <td>3</td>\n",
       "      <td>...</td>\n",
       "      <td>Good</td>\n",
       "      <td>809.98</td>\n",
       "      <td>28.609352</td>\n",
       "      <td>22 Years and 3 Months</td>\n",
       "      <td>No</td>\n",
       "      <td>49.574949</td>\n",
       "      <td>81.699521264648</td>\n",
       "      <td>Low_spent_Medium_value_payments</td>\n",
       "      <td>331.2098628537912</td>\n",
       "      <td>Good</td>\n",
       "    </tr>\n",
       "    <tr>\n",
       "      <th>3</th>\n",
       "      <td>0x1605</td>\n",
       "      <td>CUS_0xd40</td>\n",
       "      <td>April</td>\n",
       "      <td>Aaron Maashoh</td>\n",
       "      <td>23</td>\n",
       "      <td>821-00-0265</td>\n",
       "      <td>Scientist</td>\n",
       "      <td>19114.12</td>\n",
       "      <td>NaN</td>\n",
       "      <td>3</td>\n",
       "      <td>...</td>\n",
       "      <td>Good</td>\n",
       "      <td>809.98</td>\n",
       "      <td>31.377862</td>\n",
       "      <td>22 Years and 4 Months</td>\n",
       "      <td>No</td>\n",
       "      <td>49.574949</td>\n",
       "      <td>199.4580743910713</td>\n",
       "      <td>Low_spent_Small_value_payments</td>\n",
       "      <td>223.45130972736786</td>\n",
       "      <td>Good</td>\n",
       "    </tr>\n",
       "    <tr>\n",
       "      <th>4</th>\n",
       "      <td>0x1606</td>\n",
       "      <td>CUS_0xd40</td>\n",
       "      <td>May</td>\n",
       "      <td>Aaron Maashoh</td>\n",
       "      <td>23</td>\n",
       "      <td>821-00-0265</td>\n",
       "      <td>Scientist</td>\n",
       "      <td>19114.12</td>\n",
       "      <td>1824.843333</td>\n",
       "      <td>3</td>\n",
       "      <td>...</td>\n",
       "      <td>Good</td>\n",
       "      <td>809.98</td>\n",
       "      <td>24.797347</td>\n",
       "      <td>22 Years and 5 Months</td>\n",
       "      <td>No</td>\n",
       "      <td>49.574949</td>\n",
       "      <td>41.420153086217326</td>\n",
       "      <td>High_spent_Medium_value_payments</td>\n",
       "      <td>341.48923103222177</td>\n",
       "      <td>Good</td>\n",
       "    </tr>\n",
       "  </tbody>\n",
       "</table>\n",
       "<p>5 rows × 28 columns</p>\n",
       "</div>"
      ],
      "text/plain": [
       "       ID Customer_ID     Month           Name   Age          SSN Occupation  \\\n",
       "0  0x1602   CUS_0xd40   January  Aaron Maashoh    23  821-00-0265  Scientist   \n",
       "1  0x1603   CUS_0xd40  February  Aaron Maashoh    23  821-00-0265  Scientist   \n",
       "2  0x1604   CUS_0xd40     March  Aaron Maashoh  -500  821-00-0265  Scientist   \n",
       "3  0x1605   CUS_0xd40     April  Aaron Maashoh    23  821-00-0265  Scientist   \n",
       "4  0x1606   CUS_0xd40       May  Aaron Maashoh    23  821-00-0265  Scientist   \n",
       "\n",
       "  Annual_Income  Monthly_Inhand_Salary  Num_Bank_Accounts  ...  Credit_Mix  \\\n",
       "0      19114.12            1824.843333                  3  ...           _   \n",
       "1      19114.12                    NaN                  3  ...        Good   \n",
       "2      19114.12                    NaN                  3  ...        Good   \n",
       "3      19114.12                    NaN                  3  ...        Good   \n",
       "4      19114.12            1824.843333                  3  ...        Good   \n",
       "\n",
       "   Outstanding_Debt Credit_Utilization_Ratio     Credit_History_Age  \\\n",
       "0            809.98                26.822620  22 Years and 1 Months   \n",
       "1            809.98                31.944960                    NaN   \n",
       "2            809.98                28.609352  22 Years and 3 Months   \n",
       "3            809.98                31.377862  22 Years and 4 Months   \n",
       "4            809.98                24.797347  22 Years and 5 Months   \n",
       "\n",
       "   Payment_of_Min_Amount Total_EMI_per_month Amount_invested_monthly  \\\n",
       "0                     No           49.574949       80.41529543900253   \n",
       "1                     No           49.574949      118.28022162236736   \n",
       "2                     No           49.574949         81.699521264648   \n",
       "3                     No           49.574949       199.4580743910713   \n",
       "4                     No           49.574949      41.420153086217326   \n",
       "\n",
       "                  Payment_Behaviour     Monthly_Balance Credit_Score  \n",
       "0   High_spent_Small_value_payments  312.49408867943663         Good  \n",
       "1    Low_spent_Large_value_payments  284.62916249607184         Good  \n",
       "2   Low_spent_Medium_value_payments   331.2098628537912         Good  \n",
       "3    Low_spent_Small_value_payments  223.45130972736786         Good  \n",
       "4  High_spent_Medium_value_payments  341.48923103222177         Good  \n",
       "\n",
       "[5 rows x 28 columns]"
      ]
     },
     "execution_count": 128,
     "metadata": {},
     "output_type": "execute_result"
    }
   ],
   "source": [
    "df = load_data()\n",
    "df.head()"
   ]
  },
  {
   "cell_type": "markdown",
   "metadata": {},
   "source": [
    "# Remove Duplicates"
   ]
  },
  {
   "cell_type": "code",
   "execution_count": 129,
   "metadata": {},
   "outputs": [
    {
     "name": "stdout",
     "output_type": "stream",
     "text": [
      "Empty DataFrame\n",
      "Columns: [ID, Customer_ID, Month, Name, Age, SSN, Occupation, Annual_Income, Monthly_Inhand_Salary, Num_Bank_Accounts, Num_Credit_Card, Interest_Rate, Num_of_Loan, Type_of_Loan, Delay_from_due_date, Num_of_Delayed_Payment, Changed_Credit_Limit, Num_Credit_Inquiries, Credit_Mix, Outstanding_Debt, Credit_Utilization_Ratio, Credit_History_Age, Payment_of_Min_Amount, Total_EMI_per_month, Amount_invested_monthly, Payment_Behaviour, Monthly_Balance, Credit_Score]\n",
      "Index: []\n",
      "\n",
      "[0 rows x 28 columns]\n"
     ]
    }
   ],
   "source": [
    "duplicates = df[df.duplicated()]\n",
    "print(duplicates)"
   ]
  },
  {
   "cell_type": "markdown",
   "metadata": {},
   "source": [
    "# Drop Columns"
   ]
  },
  {
   "cell_type": "code",
   "execution_count": 130,
   "metadata": {},
   "outputs": [],
   "source": [
    "def drop_columns(df, columns_to_drop):\n",
    "    # Drop columns, ignoring errors if a column does not exist\n",
    "    df = df.drop(columns=columns_to_drop, axis=1, errors='ignore')\n",
    "\n",
    "    # Verify and print confirmation for dropped columns\n",
    "    for col in columns_to_drop:\n",
    "        if col not in df.columns:\n",
    "            print(f\"Column '{col}' dropped successfully.\")\n",
    "\n",
    "    return df  "
   ]
  },
  {
   "cell_type": "code",
   "execution_count": 131,
   "metadata": {},
   "outputs": [
    {
     "name": "stdout",
     "output_type": "stream",
     "text": [
      "Column 'ID' dropped successfully.\n",
      "Column 'Name' dropped successfully.\n",
      "Column 'SSN' dropped successfully.\n",
      "Column 'Customer_ID' dropped successfully.\n"
     ]
    }
   ],
   "source": [
    "columns_to_drop = [\n",
    "    \"ID\",\n",
    "    \"Name\",  \n",
    "    \"SSN\",  \n",
    "    \"Customer_ID\",  \n",
    "]\n",
    "\n",
    "df = drop_columns(df, columns_to_drop)  "
   ]
  },
  {
   "cell_type": "markdown",
   "metadata": {},
   "source": [
    "# Correct Data Types"
   ]
  },
  {
   "cell_type": "code",
   "execution_count": 132,
   "metadata": {},
   "outputs": [
    {
     "data": {
      "text/plain": [
       "Month                        object\n",
       "Age                          object\n",
       "Occupation                   object\n",
       "Annual_Income                object\n",
       "Monthly_Inhand_Salary       float64\n",
       "Num_Bank_Accounts             int64\n",
       "Num_Credit_Card               int64\n",
       "Interest_Rate                 int64\n",
       "Num_of_Loan                  object\n",
       "Type_of_Loan                 object\n",
       "Delay_from_due_date           int64\n",
       "Num_of_Delayed_Payment       object\n",
       "Changed_Credit_Limit         object\n",
       "Num_Credit_Inquiries        float64\n",
       "Credit_Mix                   object\n",
       "Outstanding_Debt             object\n",
       "Credit_Utilization_Ratio    float64\n",
       "Credit_History_Age           object\n",
       "Payment_of_Min_Amount        object\n",
       "Total_EMI_per_month         float64\n",
       "Amount_invested_monthly      object\n",
       "Payment_Behaviour            object\n",
       "Monthly_Balance              object\n",
       "Credit_Score                 object\n",
       "dtype: object"
      ]
     },
     "execution_count": 132,
     "metadata": {},
     "output_type": "execute_result"
    }
   ],
   "source": [
    "df.dtypes"
   ]
  },
  {
   "cell_type": "code",
   "execution_count": 133,
   "metadata": {},
   "outputs": [],
   "source": [
    "# Annual_Income (object → float64)\n",
    "df['Annual_Income'] = df['Annual_Income'].astype(str).str.replace(r'[^\\d.]', '', regex=True).astype(float)\n",
    "\n",
    "# Num_of_Loan (object → int64)\n",
    "df['Num_of_Loan'] = pd.to_numeric(df['Num_of_Loan'], errors='coerce').fillna(0).astype(int)\n",
    "\n",
    "# Num_of_Delayed_Payment (object → int64)\n",
    "df['Num_of_Delayed_Payment'] = pd.to_numeric(df['Num_of_Delayed_Payment'], errors='coerce').fillna(0).astype(int)\n",
    "\n",
    "# Changed_Credit_Limit (object → float64)\n",
    "df['Changed_Credit_Limit'] = pd.to_numeric(df['Changed_Credit_Limit'], errors='coerce')\n",
    "\n",
    "# Outstanding_Debt (object → float64)\n",
    "df['Outstanding_Debt'] = df['Outstanding_Debt'].str.replace(r'[^\\d.]', '', regex=True).astype(float)\n",
    "\n",
    "# Amount_invested_monthly (object → float64)\n",
    "df['Amount_invested_monthly'] = pd.to_numeric(df['Amount_invested_monthly'], errors='coerce')\n",
    "\n",
    "# Monthly_Balance (object → float64)\n",
    "df['Monthly_Balance'] = pd.to_numeric(df['Monthly_Balance'], errors='coerce')\n",
    "\n",
    "# Age (object → int64)\n",
    "df['Age'] = pd.to_numeric(df['Age'], errors='coerce')\n",
    "age_median = df['Age'].median()  # Compute median of non-NaN values\n",
    "df['Age'] = df['Age'].fillna(age_median).astype(int)"
   ]
  },
  {
   "cell_type": "markdown",
   "metadata": {},
   "source": [
    "# Clean Categorical Columns"
   ]
  },
  {
   "cell_type": "code",
   "execution_count": 134,
   "metadata": {},
   "outputs": [
    {
     "name": "stdout",
     "output_type": "stream",
     "text": [
      "Unique Occupations after cleaning:\n",
      "['Scientist' 'Unknown' 'Teacher' 'Engineer' 'Entrepreneur' 'Developer'\n",
      " 'Lawyer' 'Media_Manager' 'Doctor' 'Journalist' 'Manager' 'Accountant'\n",
      " 'Musician' 'Mechanic' 'Writer' 'Architect']\n",
      "\n",
      "Occupation distribution after cleaning:\n",
      "Occupation\n",
      "Unknown          7062\n",
      "Lawyer           6575\n",
      "Architect        6355\n",
      "Engineer         6350\n",
      "Scientist        6299\n",
      "Mechanic         6291\n",
      "Accountant       6271\n",
      "Developer        6235\n",
      "Media_Manager    6232\n",
      "Teacher          6215\n",
      "Entrepreneur     6174\n",
      "Doctor           6087\n",
      "Journalist       6085\n",
      "Manager          5973\n",
      "Musician         5911\n",
      "Writer           5885\n",
      "Name: count, dtype: int64\n"
     ]
    }
   ],
   "source": [
    "df['Occupation'] = df['Occupation'].replace(\"_______\", \"Unknown\")\n",
    "\n",
    "# Standardize format by converting to title case and removing extra spaces\n",
    "df['Occupation'] = df['Occupation'].str.title().str.strip()\n",
    "\n",
    "# Check for duplicates by printing unique values\n",
    "print(\"Unique Occupations after cleaning:\")\n",
    "print(df['Occupation'].unique())\n",
    "\n",
    "# Verify the cleaned column with value counts\n",
    "print(\"\\nOccupation distribution after cleaning:\")\n",
    "print(df['Occupation'].value_counts())"
   ]
  },
  {
   "cell_type": "code",
   "execution_count": 135,
   "metadata": {},
   "outputs": [
    {
     "name": "stdout",
     "output_type": "stream",
     "text": [
      "Unique values in Credit_Mix after cleaning:\n",
      "['Unknown' 'Good' 'Standard' 'Bad']\n"
     ]
    }
   ],
   "source": [
    "df['Credit_Mix'] = df['Credit_Mix'].fillna(\"Unknown\")\n",
    "# Replace \"_\" with \"Unknown\"\n",
    "df['Credit_Mix'] = df['Credit_Mix'].replace(\"_\", \"Unknown\")\n",
    "# Standardize format - convert to title case and strip extra spaces\n",
    "df['Credit_Mix'] = df['Credit_Mix'].str.title().str.strip()\n",
    "\n",
    "print(\"Unique values in Credit_Mix after cleaning:\")\n",
    "print(df['Credit_Mix'].unique())"
   ]
  },
  {
   "cell_type": "code",
   "execution_count": 136,
   "metadata": {},
   "outputs": [
    {
     "name": "stdout",
     "output_type": "stream",
     "text": [
      "Unique values in Payment_of_Min_Amount after cleaning:\n",
      "['No' 'Unknown' 'Yes']\n"
     ]
    }
   ],
   "source": [
    "df['Payment_of_Min_Amount'] = df['Payment_of_Min_Amount'].fillna(\"Unknown\")\n",
    "# Replace \"NM\" with \"Unknown\"\n",
    "df['Payment_of_Min_Amount'] = df['Payment_of_Min_Amount'].replace(\"NM\", \"Unknown\")\n",
    "# Standardize format - convert to title case and strip extra spaces\n",
    "df['Payment_of_Min_Amount'] = df['Payment_of_Min_Amount'].str.title().str.strip()\n",
    "\n",
    "print(\"Unique values in Payment_of_Min_Amount after cleaning:\")\n",
    "print(df['Payment_of_Min_Amount'].unique())"
   ]
  },
  {
   "cell_type": "code",
   "execution_count": 137,
   "metadata": {},
   "outputs": [
    {
     "data": {
      "text/plain": [
       "0         High_spent_Small_value_payments\n",
       "1          Low_spent_Large_value_payments\n",
       "2         Low_spent_Medium_value_payments\n",
       "3          Low_spent_Small_value_payments\n",
       "4        High_spent_Medium_value_payments\n",
       "                       ...               \n",
       "99995     High_spent_Large_value_payments\n",
       "99996    High_spent_Medium_value_payments\n",
       "99997     High_spent_Large_value_payments\n",
       "99998      Low_spent_Large_value_payments\n",
       "99999                              !@9#%8\n",
       "Name: Payment_Behaviour, Length: 100000, dtype: object"
      ]
     },
     "execution_count": 137,
     "metadata": {},
     "output_type": "execute_result"
    }
   ],
   "source": [
    "df['Payment_Behaviour']"
   ]
  },
  {
   "cell_type": "code",
   "execution_count": 138,
   "metadata": {},
   "outputs": [
    {
     "name": "stdout",
     "output_type": "stream",
     "text": [
      "Unique values in Payment_Behaviour after cleaning:\n",
      "['High Spent Small Value Payments' 'Low Spent Large Value Payments'\n",
      " 'Low Spent Medium Value Payments' 'Low Spent Small Value Payments'\n",
      " 'High Spent Medium Value Payments' 'Unknown'\n",
      " 'High Spent Large Value Payments']\n",
      "\n",
      "Payment_Behaviour distribution after cleaning:\n",
      "Payment_Behaviour\n",
      "Low Spent Small Value Payments      25513\n",
      "High Spent Medium Value Payments    17540\n",
      "Low Spent Medium Value Payments     13861\n",
      "High Spent Large Value Payments     13721\n",
      "High Spent Small Value Payments     11340\n",
      "Low Spent Large Value Payments      10425\n",
      "Unknown                              7600\n",
      "Name: count, dtype: int64\n"
     ]
    }
   ],
   "source": [
    "# Replace NaN values with \"Unknown\"\n",
    "df['Payment_Behaviour'] = df['Payment_Behaviour'].fillna(\"Unknown\")\n",
    "# Replace special characters with \"Unknown\"\n",
    "df['Payment_Behaviour'] = df['Payment_Behaviour'].replace(\"!@9#%8\", \"Unknown\")\n",
    "# Standardize format - replace underscores with spaces, convert to title case, and strip extra spaces\n",
    "df['Payment_Behaviour'] = df['Payment_Behaviour'].str.replace(\"_\", \" \").str.title().str.strip()\n",
    "\n",
    "# Check for duplicates by printing unique values\n",
    "print(\"Unique values in Payment_Behaviour after cleaning:\")\n",
    "unique_values = df['Payment_Behaviour'].unique()\n",
    "print(unique_values)\n",
    "\n",
    "duplicate_mapping = {\n",
    "    \"Low Spent Small\": \"Low Spent Small Value Payments\",\n",
    "    \"High Spent Small\": \"High Spent Small Value Payments\",\n",
    "    \"Low Spent Large\": \"Low Spent Large Value Payments\",\n",
    "    \"Low Spent Medium\": \"Low Spent Medium Value Payments\",\n",
    "    \"High Spent Medium\": \"High Spent Medium Value Payments\",\n",
    "    \"High Spent Large\": \"High Spent Large Value Payments\",\n",
    "    \"Unknown\": \"Unknown\"\n",
    "}\n",
    "\n",
    "df['Payment_Behaviour'] = df['Payment_Behaviour'].replace(duplicate_mapping)\n",
    "\n",
    "# Verify the cleaned column with value counts\n",
    "print(\"\\nPayment_Behaviour distribution after cleaning:\")\n",
    "print(df['Payment_Behaviour'].value_counts())"
   ]
  },
  {
   "cell_type": "code",
   "execution_count": 139,
   "metadata": {},
   "outputs": [
    {
     "name": "stdout",
     "output_type": "stream",
     "text": [
      "Unique values before cleaning: ['Good' 'Standard' 'Poor']\n",
      "Unique values after cleaning: ['Good' 'Standard' 'Poor']\n"
     ]
    }
   ],
   "source": [
    "print(\"Unique values before cleaning:\", df['Credit_Score'].unique())\n",
    "\n",
    "# Standardize the format - strip extra spaces and convert to title case\n",
    "df['Credit_Score'] = df['Credit_Score'].str.strip().str.title()\n",
    "\n",
    "# Check unique values after cleaning\n",
    "print(\"Unique values after cleaning:\", df['Credit_Score'].unique())"
   ]
  },
  {
   "cell_type": "markdown",
   "metadata": {},
   "source": [
    "# Handle Special Columns"
   ]
  },
  {
   "cell_type": "code",
   "execution_count": 140,
   "metadata": {},
   "outputs": [
    {
     "name": "stdout",
     "output_type": "stream",
     "text": [
      "0     January\n",
      "1    February\n",
      "2       March\n",
      "3       April\n",
      "4         May\n",
      "Name: Month, dtype: object\n"
     ]
    }
   ],
   "source": [
    "# month column \n",
    "month_order = ['January', 'February', 'March', 'April', 'May', 'June', \n",
    "               'July', 'August', 'September', 'October', 'November', 'December']\n",
    "\n",
    "df['Month_number_2'] = pd.Categorical(df['Month'], categories=month_order, ordered=True)\n",
    "print(df['Month'].head())\n"
   ]
  },
  {
   "cell_type": "markdown",
   "metadata": {},
   "source": [
    "# Handling Missing Data"
   ]
  },
  {
   "cell_type": "code",
   "execution_count": null,
   "metadata": {},
   "outputs": [],
   "source": []
  },
  {
   "cell_type": "markdown",
   "metadata": {},
   "source": [
    "# Check for Outliers"
   ]
  },
  {
   "cell_type": "code",
   "execution_count": null,
   "metadata": {},
   "outputs": [],
   "source": []
  }
 ],
 "metadata": {
  "kernelspec": {
   "display_name": "base",
   "language": "python",
   "name": "python3"
  },
  "language_info": {
   "codemirror_mode": {
    "name": "ipython",
    "version": 3
   },
   "file_extension": ".py",
   "mimetype": "text/x-python",
   "name": "python",
   "nbconvert_exporter": "python",
   "pygments_lexer": "ipython3",
   "version": "3.12.2"
  }
 },
 "nbformat": 4,
 "nbformat_minor": 2
}
