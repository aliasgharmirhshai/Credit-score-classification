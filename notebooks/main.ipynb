{
 "cells": [
  {
   "cell_type": "code",
   "execution_count": 1,
   "metadata": {},
   "outputs": [],
   "source": [
    "import pandas as pd\n",
    "import numpy as np\n",
    "import matplotlib.pyplot as plt\n",
    "import seaborn as sns\n",
    "import os\n",
    "from scipy import stats\n",
    "import re"
   ]
  },
  {
   "cell_type": "markdown",
   "metadata": {},
   "source": [
    "## Load Data"
   ]
  },
  {
   "cell_type": "code",
   "execution_count": 2,
   "metadata": {},
   "outputs": [],
   "source": [
    "def load_data(data_path=\"../data/\"):\n",
    "    \"\"\"Load the credit scoring dataset.\"\"\"\n",
    "    # Check if the data directory exists\n",
    "    if not os.path.exists(data_path):\n",
    "        raise FileNotFoundError(f\"Data directory '{data_path}' not found.\")\n",
    "    \n",
    "    # Look for CSV files in the data directory\n",
    "    csv_files = [f for f in os.listdir(data_path) if f.endswith('train.csv')]\n",
    "    \n",
    "    if not csv_files:\n",
    "        raise FileNotFoundError(f\"No CSV files found in '{data_path}'.\")\n",
    "    \n",
    "    # Load the first CSV file found\n",
    "    file_path = os.path.join(data_path, csv_files[0])\n",
    "    print(f\"Loading data from: {file_path}\")\n",
    "    \n",
    "    return pd.read_csv(file_path)\n"
   ]
  },
  {
   "cell_type": "code",
   "execution_count": 3,
   "metadata": {},
   "outputs": [
    {
     "name": "stdout",
     "output_type": "stream",
     "text": [
      "Loading data from: ../data/train.csv\n"
     ]
    },
    {
     "name": "stderr",
     "output_type": "stream",
     "text": [
      "/tmp/ipykernel_15323/948120084.py:17: DtypeWarning: Columns (26) have mixed types. Specify dtype option on import or set low_memory=False.\n",
      "  return pd.read_csv(file_path)\n"
     ]
    }
   ],
   "source": [
    "df = load_data()"
   ]
  },
  {
   "cell_type": "markdown",
   "metadata": {},
   "source": [
    "## Overview"
   ]
  },
  {
   "cell_type": "code",
   "execution_count": 4,
   "metadata": {},
   "outputs": [
    {
     "data": {
      "text/html": [
       "<div>\n",
       "<style scoped>\n",
       "    .dataframe tbody tr th:only-of-type {\n",
       "        vertical-align: middle;\n",
       "    }\n",
       "\n",
       "    .dataframe tbody tr th {\n",
       "        vertical-align: top;\n",
       "    }\n",
       "\n",
       "    .dataframe thead th {\n",
       "        text-align: right;\n",
       "    }\n",
       "</style>\n",
       "<table border=\"1\" class=\"dataframe\">\n",
       "  <thead>\n",
       "    <tr style=\"text-align: right;\">\n",
       "      <th></th>\n",
       "      <th>ID</th>\n",
       "      <th>Customer_ID</th>\n",
       "      <th>Month</th>\n",
       "      <th>Name</th>\n",
       "      <th>Age</th>\n",
       "      <th>SSN</th>\n",
       "      <th>Occupation</th>\n",
       "      <th>Annual_Income</th>\n",
       "      <th>Monthly_Inhand_Salary</th>\n",
       "      <th>Num_Bank_Accounts</th>\n",
       "      <th>...</th>\n",
       "      <th>Credit_Mix</th>\n",
       "      <th>Outstanding_Debt</th>\n",
       "      <th>Credit_Utilization_Ratio</th>\n",
       "      <th>Credit_History_Age</th>\n",
       "      <th>Payment_of_Min_Amount</th>\n",
       "      <th>Total_EMI_per_month</th>\n",
       "      <th>Amount_invested_monthly</th>\n",
       "      <th>Payment_Behaviour</th>\n",
       "      <th>Monthly_Balance</th>\n",
       "      <th>Credit_Score</th>\n",
       "    </tr>\n",
       "  </thead>\n",
       "  <tbody>\n",
       "    <tr>\n",
       "      <th>0</th>\n",
       "      <td>0x1602</td>\n",
       "      <td>CUS_0xd40</td>\n",
       "      <td>January</td>\n",
       "      <td>Aaron Maashoh</td>\n",
       "      <td>23</td>\n",
       "      <td>821-00-0265</td>\n",
       "      <td>Scientist</td>\n",
       "      <td>19114.12</td>\n",
       "      <td>1824.843333</td>\n",
       "      <td>3</td>\n",
       "      <td>...</td>\n",
       "      <td>_</td>\n",
       "      <td>809.98</td>\n",
       "      <td>26.822620</td>\n",
       "      <td>22 Years and 1 Months</td>\n",
       "      <td>No</td>\n",
       "      <td>49.574949</td>\n",
       "      <td>80.41529543900253</td>\n",
       "      <td>High_spent_Small_value_payments</td>\n",
       "      <td>312.49408867943663</td>\n",
       "      <td>Good</td>\n",
       "    </tr>\n",
       "    <tr>\n",
       "      <th>1</th>\n",
       "      <td>0x1603</td>\n",
       "      <td>CUS_0xd40</td>\n",
       "      <td>February</td>\n",
       "      <td>Aaron Maashoh</td>\n",
       "      <td>23</td>\n",
       "      <td>821-00-0265</td>\n",
       "      <td>Scientist</td>\n",
       "      <td>19114.12</td>\n",
       "      <td>NaN</td>\n",
       "      <td>3</td>\n",
       "      <td>...</td>\n",
       "      <td>Good</td>\n",
       "      <td>809.98</td>\n",
       "      <td>31.944960</td>\n",
       "      <td>NaN</td>\n",
       "      <td>No</td>\n",
       "      <td>49.574949</td>\n",
       "      <td>118.28022162236736</td>\n",
       "      <td>Low_spent_Large_value_payments</td>\n",
       "      <td>284.62916249607184</td>\n",
       "      <td>Good</td>\n",
       "    </tr>\n",
       "    <tr>\n",
       "      <th>2</th>\n",
       "      <td>0x1604</td>\n",
       "      <td>CUS_0xd40</td>\n",
       "      <td>March</td>\n",
       "      <td>Aaron Maashoh</td>\n",
       "      <td>-500</td>\n",
       "      <td>821-00-0265</td>\n",
       "      <td>Scientist</td>\n",
       "      <td>19114.12</td>\n",
       "      <td>NaN</td>\n",
       "      <td>3</td>\n",
       "      <td>...</td>\n",
       "      <td>Good</td>\n",
       "      <td>809.98</td>\n",
       "      <td>28.609352</td>\n",
       "      <td>22 Years and 3 Months</td>\n",
       "      <td>No</td>\n",
       "      <td>49.574949</td>\n",
       "      <td>81.699521264648</td>\n",
       "      <td>Low_spent_Medium_value_payments</td>\n",
       "      <td>331.2098628537912</td>\n",
       "      <td>Good</td>\n",
       "    </tr>\n",
       "    <tr>\n",
       "      <th>3</th>\n",
       "      <td>0x1605</td>\n",
       "      <td>CUS_0xd40</td>\n",
       "      <td>April</td>\n",
       "      <td>Aaron Maashoh</td>\n",
       "      <td>23</td>\n",
       "      <td>821-00-0265</td>\n",
       "      <td>Scientist</td>\n",
       "      <td>19114.12</td>\n",
       "      <td>NaN</td>\n",
       "      <td>3</td>\n",
       "      <td>...</td>\n",
       "      <td>Good</td>\n",
       "      <td>809.98</td>\n",
       "      <td>31.377862</td>\n",
       "      <td>22 Years and 4 Months</td>\n",
       "      <td>No</td>\n",
       "      <td>49.574949</td>\n",
       "      <td>199.4580743910713</td>\n",
       "      <td>Low_spent_Small_value_payments</td>\n",
       "      <td>223.45130972736786</td>\n",
       "      <td>Good</td>\n",
       "    </tr>\n",
       "    <tr>\n",
       "      <th>4</th>\n",
       "      <td>0x1606</td>\n",
       "      <td>CUS_0xd40</td>\n",
       "      <td>May</td>\n",
       "      <td>Aaron Maashoh</td>\n",
       "      <td>23</td>\n",
       "      <td>821-00-0265</td>\n",
       "      <td>Scientist</td>\n",
       "      <td>19114.12</td>\n",
       "      <td>1824.843333</td>\n",
       "      <td>3</td>\n",
       "      <td>...</td>\n",
       "      <td>Good</td>\n",
       "      <td>809.98</td>\n",
       "      <td>24.797347</td>\n",
       "      <td>22 Years and 5 Months</td>\n",
       "      <td>No</td>\n",
       "      <td>49.574949</td>\n",
       "      <td>41.420153086217326</td>\n",
       "      <td>High_spent_Medium_value_payments</td>\n",
       "      <td>341.48923103222177</td>\n",
       "      <td>Good</td>\n",
       "    </tr>\n",
       "  </tbody>\n",
       "</table>\n",
       "<p>5 rows × 28 columns</p>\n",
       "</div>"
      ],
      "text/plain": [
       "       ID Customer_ID     Month           Name   Age          SSN Occupation  \\\n",
       "0  0x1602   CUS_0xd40   January  Aaron Maashoh    23  821-00-0265  Scientist   \n",
       "1  0x1603   CUS_0xd40  February  Aaron Maashoh    23  821-00-0265  Scientist   \n",
       "2  0x1604   CUS_0xd40     March  Aaron Maashoh  -500  821-00-0265  Scientist   \n",
       "3  0x1605   CUS_0xd40     April  Aaron Maashoh    23  821-00-0265  Scientist   \n",
       "4  0x1606   CUS_0xd40       May  Aaron Maashoh    23  821-00-0265  Scientist   \n",
       "\n",
       "  Annual_Income  Monthly_Inhand_Salary  Num_Bank_Accounts  ...  Credit_Mix  \\\n",
       "0      19114.12            1824.843333                  3  ...           _   \n",
       "1      19114.12                    NaN                  3  ...        Good   \n",
       "2      19114.12                    NaN                  3  ...        Good   \n",
       "3      19114.12                    NaN                  3  ...        Good   \n",
       "4      19114.12            1824.843333                  3  ...        Good   \n",
       "\n",
       "   Outstanding_Debt Credit_Utilization_Ratio     Credit_History_Age  \\\n",
       "0            809.98                26.822620  22 Years and 1 Months   \n",
       "1            809.98                31.944960                    NaN   \n",
       "2            809.98                28.609352  22 Years and 3 Months   \n",
       "3            809.98                31.377862  22 Years and 4 Months   \n",
       "4            809.98                24.797347  22 Years and 5 Months   \n",
       "\n",
       "   Payment_of_Min_Amount Total_EMI_per_month Amount_invested_monthly  \\\n",
       "0                     No           49.574949       80.41529543900253   \n",
       "1                     No           49.574949      118.28022162236736   \n",
       "2                     No           49.574949         81.699521264648   \n",
       "3                     No           49.574949       199.4580743910713   \n",
       "4                     No           49.574949      41.420153086217326   \n",
       "\n",
       "                  Payment_Behaviour     Monthly_Balance Credit_Score  \n",
       "0   High_spent_Small_value_payments  312.49408867943663         Good  \n",
       "1    Low_spent_Large_value_payments  284.62916249607184         Good  \n",
       "2   Low_spent_Medium_value_payments   331.2098628537912         Good  \n",
       "3    Low_spent_Small_value_payments  223.45130972736786         Good  \n",
       "4  High_spent_Medium_value_payments  341.48923103222177         Good  \n",
       "\n",
       "[5 rows x 28 columns]"
      ]
     },
     "execution_count": 4,
     "metadata": {},
     "output_type": "execute_result"
    }
   ],
   "source": [
    "df.head()"
   ]
  },
  {
   "cell_type": "code",
   "execution_count": 5,
   "metadata": {},
   "outputs": [
    {
     "name": "stdout",
     "output_type": "stream",
     "text": [
      "<class 'pandas.core.frame.DataFrame'>\n",
      "RangeIndex: 100000 entries, 0 to 99999\n",
      "Data columns (total 28 columns):\n",
      " #   Column                    Non-Null Count   Dtype  \n",
      "---  ------                    --------------   -----  \n",
      " 0   ID                        100000 non-null  object \n",
      " 1   Customer_ID               100000 non-null  object \n",
      " 2   Month                     100000 non-null  object \n",
      " 3   Name                      90015 non-null   object \n",
      " 4   Age                       100000 non-null  object \n",
      " 5   SSN                       100000 non-null  object \n",
      " 6   Occupation                100000 non-null  object \n",
      " 7   Annual_Income             100000 non-null  object \n",
      " 8   Monthly_Inhand_Salary     84998 non-null   float64\n",
      " 9   Num_Bank_Accounts         100000 non-null  int64  \n",
      " 10  Num_Credit_Card           100000 non-null  int64  \n",
      " 11  Interest_Rate             100000 non-null  int64  \n",
      " 12  Num_of_Loan               100000 non-null  object \n",
      " 13  Type_of_Loan              88592 non-null   object \n",
      " 14  Delay_from_due_date       100000 non-null  int64  \n",
      " 15  Num_of_Delayed_Payment    92998 non-null   object \n",
      " 16  Changed_Credit_Limit      100000 non-null  object \n",
      " 17  Num_Credit_Inquiries      98035 non-null   float64\n",
      " 18  Credit_Mix                100000 non-null  object \n",
      " 19  Outstanding_Debt          100000 non-null  object \n",
      " 20  Credit_Utilization_Ratio  100000 non-null  float64\n",
      " 21  Credit_History_Age        90970 non-null   object \n",
      " 22  Payment_of_Min_Amount     100000 non-null  object \n",
      " 23  Total_EMI_per_month       100000 non-null  float64\n",
      " 24  Amount_invested_monthly   95521 non-null   object \n",
      " 25  Payment_Behaviour         100000 non-null  object \n",
      " 26  Monthly_Balance           98800 non-null   object \n",
      " 27  Credit_Score              100000 non-null  object \n",
      "dtypes: float64(4), int64(4), object(20)\n",
      "memory usage: 21.4+ MB\n"
     ]
    }
   ],
   "source": [
    "df.info()"
   ]
  },
  {
   "cell_type": "code",
   "execution_count": 6,
   "metadata": {},
   "outputs": [
    {
     "name": "stdout",
     "output_type": "stream",
     "text": [
      "Number of rows : 100000\n"
     ]
    }
   ],
   "source": [
    "print(f\"Number of rows : {len(df)}\")"
   ]
  },
  {
   "cell_type": "code",
   "execution_count": 7,
   "metadata": {},
   "outputs": [
    {
     "name": "stdout",
     "output_type": "stream",
     "text": [
      "Total data memory usage: 120.56 MB\n"
     ]
    }
   ],
   "source": [
    "total_memory = df.memory_usage(deep=True).sum() / (1024**2)\n",
    "print(f\"Total data memory usage: {total_memory:.2f} MB\")"
   ]
  },
  {
   "cell_type": "code",
   "execution_count": 8,
   "metadata": {},
   "outputs": [
    {
     "name": "stdout",
     "output_type": "stream",
     "text": [
      "List all column names :\n",
      "\n",
      " Index(['ID', 'Customer_ID', 'Month', 'Name', 'Age', 'SSN', 'Occupation',\n",
      "       'Annual_Income', 'Monthly_Inhand_Salary', 'Num_Bank_Accounts',\n",
      "       'Num_Credit_Card', 'Interest_Rate', 'Num_of_Loan', 'Type_of_Loan',\n",
      "       'Delay_from_due_date', 'Num_of_Delayed_Payment', 'Changed_Credit_Limit',\n",
      "       'Num_Credit_Inquiries', 'Credit_Mix', 'Outstanding_Debt',\n",
      "       'Credit_Utilization_Ratio', 'Credit_History_Age',\n",
      "       'Payment_of_Min_Amount', 'Total_EMI_per_month',\n",
      "       'Amount_invested_monthly', 'Payment_Behaviour', 'Monthly_Balance',\n",
      "       'Credit_Score'],\n",
      "      dtype='object')\n"
     ]
    }
   ],
   "source": [
    "print(f\"List all column names :\\n\\n {df.columns}\")"
   ]
  },
  {
   "cell_type": "code",
   "execution_count": 9,
   "metadata": {},
   "outputs": [
    {
     "name": "stdout",
     "output_type": "stream",
     "text": [
      "Number of columns :‌ 28\n"
     ]
    }
   ],
   "source": [
    "print(f\"Number of columns :‌ {len(df.columns)}\")"
   ]
  },
  {
   "cell_type": "markdown",
   "metadata": {},
   "source": [
    "## Missing Data"
   ]
  },
  {
   "cell_type": "code",
   "execution_count": 10,
   "metadata": {},
   "outputs": [],
   "source": [
    "def report_missing_data(df, dataset_name=\"Dataset\"):\n",
    "    \"\"\"\n",
    "    Reports missing data in a dataset with details and visualizations.\n",
    "    \n",
    "    Parameters:\n",
    "    - df: pandas DataFrame - The dataset to analyze\n",
    "    - dataset_name: str - Name of the dataset for reporting (default: \"Dataset\")\n",
    "    \n",
    "    Returns:\n",
    "    - None: Prints results and displays visualizations\n",
    "    \"\"\"\n",
    "    \n",
    "    # Calculate total number of entries\n",
    "    total_entries = df.size  # Total number of cells (rows * columns)\n",
    "    total_rows = df.shape[0]\n",
    "    total_cols = df.shape[1]\n",
    "    \n",
    "    # Identify variables with missing data\n",
    "    missing_by_column = df.isnull().sum()  # Count of missing values per column\n",
    "    missing_percent_by_column = (missing_by_column / total_rows) * 100  # Percentage per column\n",
    "    \n",
    "    # Filter to columns with missing data\n",
    "    missing_columns = missing_by_column[missing_by_column > 0]\n",
    "    missing_percent_columns = missing_percent_by_column[missing_by_column > 0]\n",
    "    \n",
    "    # Calculate total missing data\n",
    "    total_missing = missing_by_column.sum()  # Total count of missing values\n",
    "    total_missing_percent = (total_missing / total_entries) * 100  # Total percentage\n",
    "    \n",
    "    # Print report\n",
    "    print(f\"### Missing Data Report for {dataset_name} ###\")\n",
    "    print(f\"Total Rows: {total_rows}, Total Columns: {total_cols}\")\n",
    "    print(f\"Total Entries (cells): {total_entries}\")\n",
    "    print(\"\\n#### Variables with Missing Data ####\")\n",
    "    if len(missing_columns) > 0:\n",
    "        for col, count in missing_columns.items():\n",
    "            percent = missing_percent_by_column[col]\n",
    "            print(f\"{col}: {count} missing values ({percent:.2f}%)\")\n",
    "    else:\n",
    "        print(\"No missing data found in any variable.\")\n",
    "    \n",
    "    print(f\"\\n#### Overall Missing Data ####\")\n",
    "    print(f\"Total Missing Values: {total_missing}\")\n",
    "    print(f\"Total Missing Percentage: {total_missing_percent:.2f}%\")\n",
    "    \n",
    "\n",
    "    # Visualizations\n",
    "    plt.figure(figsize=(12, 8))\n",
    "    \n",
    "    # Heatmap of missing data\n",
    "    plt.subplot(2, 1, 1)\n",
    "    sns.heatmap(df.isnull(), cbar=False, cmap='viridis', yticklabels=False)\n",
    "    plt.title(f\"Missing Data Heatmap - {dataset_name}\")\n",
    "    plt.xlabel(\"Columns\")\n",
    "    plt.ylabel(\"Rows\")\n",
    "    \n",
    "    # Bar plot of missing data by column\n",
    "    plt.subplot(2, 1, 2)\n",
    "    missing_percent_columns.plot(kind='bar', color='skyblue')\n",
    "    plt.title(f\"Percentage of Missing Data by Variable - {dataset_name}\")\n",
    "    plt.xlabel(\"Variables\")\n",
    "    plt.ylabel(\"Percentage Missing (%)\")\n",
    "    plt.xticks(rotation=45, ha='right')\n",
    "    \n",
    "    plt.tight_layout()\n",
    "    plt.show()"
   ]
  },
  {
   "cell_type": "code",
   "execution_count": 11,
   "metadata": {},
   "outputs": [
    {
     "name": "stdout",
     "output_type": "stream",
     "text": [
      "### Missing Data Report for Dataset ###\n",
      "Total Rows: 100000, Total Columns: 28\n",
      "Total Entries (cells): 2800000\n",
      "\n",
      "#### Variables with Missing Data ####\n",
      "Name: 9985 missing values (9.98%)\n",
      "Monthly_Inhand_Salary: 15002 missing values (15.00%)\n",
      "Type_of_Loan: 11408 missing values (11.41%)\n",
      "Num_of_Delayed_Payment: 7002 missing values (7.00%)\n",
      "Num_Credit_Inquiries: 1965 missing values (1.97%)\n",
      "Credit_History_Age: 9030 missing values (9.03%)\n",
      "Amount_invested_monthly: 4479 missing values (4.48%)\n",
      "Monthly_Balance: 1200 missing values (1.20%)\n",
      "\n",
      "#### Overall Missing Data ####\n",
      "Total Missing Values: 60071\n",
      "Total Missing Percentage: 2.15%\n"
     ]
    },
    {
     "data": {
      "image/png": "[encoded data removed]",
      "text/plain": [
       "<Figure size 1200x800 with 2 Axes>"
      ]
     },
     "metadata": {},
     "output_type": "display_data"
    }
   ],
   "source": [
    "report_missing_data(df)"
   ]
  },
  {
   "cell_type": "markdown",
   "metadata": {},
   "source": [
    "## Data Structure & Types"
   ]
  },
  {
   "cell_type": "markdown",
   "metadata": {},
   "source": [
    "#### Data Types \n",
    "- Check data types of each column"
   ]
  },
  {
   "cell_type": "code",
   "execution_count": 12,
   "metadata": {},
   "outputs": [
    {
     "data": {
      "text/plain": [
       "ID                           object\n",
       "Customer_ID                  object\n",
       "Month                        object\n",
       "Name                         object\n",
       "Age                          object\n",
       "SSN                          object\n",
       "Occupation                   object\n",
       "Annual_Income                object\n",
       "Monthly_Inhand_Salary       float64\n",
       "Num_Bank_Accounts             int64\n",
       "Num_Credit_Card               int64\n",
       "Interest_Rate                 int64\n",
       "Num_of_Loan                  object\n",
       "Type_of_Loan                 object\n",
       "Delay_from_due_date           int64\n",
       "Num_of_Delayed_Payment       object\n",
       "Changed_Credit_Limit         object\n",
       "Num_Credit_Inquiries        float64\n",
       "Credit_Mix                   object\n",
       "Outstanding_Debt             object\n",
       "Credit_Utilization_Ratio    float64\n",
       "Credit_History_Age           object\n",
       "Payment_of_Min_Amount        object\n",
       "Total_EMI_per_month         float64\n",
       "Amount_invested_monthly      object\n",
       "Payment_Behaviour            object\n",
       "Monthly_Balance              object\n",
       "Credit_Score                 object\n",
       "dtype: object"
      ]
     },
     "execution_count": 12,
     "metadata": {},
     "output_type": "execute_result"
    }
   ],
   "source": [
    "df.dtypes"
   ]
  },
  {
   "cell_type": "markdown",
   "metadata": {},
   "source": [
    "#### Categorical vs. Numerical"
   ]
  },
  {
   "cell_type": "code",
   "execution_count": 13,
   "metadata": {},
   "outputs": [
    {
     "name": "stdout",
     "output_type": "stream",
     "text": [
      "Categorical Columns: Index(['ID', 'Customer_ID', 'Month', 'Name', 'Age', 'SSN', 'Occupation',\n",
      "       'Annual_Income', 'Num_of_Loan', 'Type_of_Loan',\n",
      "       'Num_of_Delayed_Payment', 'Changed_Credit_Limit', 'Credit_Mix',\n",
      "       'Outstanding_Debt', 'Credit_History_Age', 'Payment_of_Min_Amount',\n",
      "       'Amount_invested_monthly', 'Payment_Behaviour', 'Monthly_Balance',\n",
      "       'Credit_Score'],\n",
      "      dtype='object')\n",
      "Numerical Columns: Index(['Monthly_Inhand_Salary', 'Num_Bank_Accounts', 'Num_Credit_Card',\n",
      "       'Interest_Rate', 'Delay_from_due_date', 'Num_Credit_Inquiries',\n",
      "       'Credit_Utilization_Ratio', 'Total_EMI_per_month'],\n",
      "      dtype='object')\n"
     ]
    }
   ],
   "source": [
    "categorical_columns = df.select_dtypes(include=['object']).columns\n",
    "numerical_columns = df.select_dtypes(include=['int64', 'float64']).columns\n",
    "print(\"Categorical Columns:\", categorical_columns)\n",
    "print(\"Numerical Columns:\", numerical_columns)"
   ]
  },
  {
   "cell_type": "code",
   "execution_count": 14,
   "metadata": {},
   "outputs": [
    {
     "name": "stdout",
     "output_type": "stream",
     "text": [
      "Discrete Variables: ['Delay_from_due_date']\n",
      "Continuous Variables: ['Monthly_Inhand_Salary', 'Num_Bank_Accounts', 'Num_Credit_Card', 'Interest_Rate', 'Num_Credit_Inquiries', 'Credit_Utilization_Ratio', 'Total_EMI_per_month']\n"
     ]
    }
   ],
   "source": [
    "discrete_vars = [col for col in numerical_columns if df[col].nunique() < 100 and df[col].dtype == 'int64']\n",
    "continuous_vars = [col for col in numerical_columns if df[col].dtype == 'float64' or df[col].nunique() >= 100]\n",
    "print(\"Discrete Variables:\", discrete_vars)\n",
    "print(\"Continuous Variables:\", continuous_vars)"
   ]
  },
  {
   "cell_type": "code",
   "execution_count": 15,
   "metadata": {},
   "outputs": [
    {
     "data": {
      "text/html": [
       "<div>\n",
       "<style scoped>\n",
       "    .dataframe tbody tr th:only-of-type {\n",
       "        vertical-align: middle;\n",
       "    }\n",
       "\n",
       "    .dataframe tbody tr th {\n",
       "        vertical-align: top;\n",
       "    }\n",
       "\n",
       "    .dataframe thead th {\n",
       "        text-align: right;\n",
       "    }\n",
       "</style>\n",
       "<table border=\"1\" class=\"dataframe\">\n",
       "  <thead>\n",
       "    <tr style=\"text-align: right;\">\n",
       "      <th></th>\n",
       "      <th>Monthly_Inhand_Salary</th>\n",
       "      <th>Num_Bank_Accounts</th>\n",
       "      <th>Num_Credit_Card</th>\n",
       "      <th>Interest_Rate</th>\n",
       "      <th>Delay_from_due_date</th>\n",
       "      <th>Num_Credit_Inquiries</th>\n",
       "      <th>Credit_Utilization_Ratio</th>\n",
       "      <th>Total_EMI_per_month</th>\n",
       "    </tr>\n",
       "  </thead>\n",
       "  <tbody>\n",
       "    <tr>\n",
       "      <th>count</th>\n",
       "      <td>84998.000000</td>\n",
       "      <td>100000.000000</td>\n",
       "      <td>100000.00000</td>\n",
       "      <td>100000.000000</td>\n",
       "      <td>100000.000000</td>\n",
       "      <td>98035.000000</td>\n",
       "      <td>100000.000000</td>\n",
       "      <td>100000.000000</td>\n",
       "    </tr>\n",
       "    <tr>\n",
       "      <th>mean</th>\n",
       "      <td>4194.170850</td>\n",
       "      <td>17.091280</td>\n",
       "      <td>22.47443</td>\n",
       "      <td>72.466040</td>\n",
       "      <td>21.068780</td>\n",
       "      <td>27.754251</td>\n",
       "      <td>32.285173</td>\n",
       "      <td>1403.118217</td>\n",
       "    </tr>\n",
       "    <tr>\n",
       "      <th>std</th>\n",
       "      <td>3183.686167</td>\n",
       "      <td>117.404834</td>\n",
       "      <td>129.05741</td>\n",
       "      <td>466.422621</td>\n",
       "      <td>14.860104</td>\n",
       "      <td>193.177339</td>\n",
       "      <td>5.116875</td>\n",
       "      <td>8306.041270</td>\n",
       "    </tr>\n",
       "    <tr>\n",
       "      <th>min</th>\n",
       "      <td>303.645417</td>\n",
       "      <td>-1.000000</td>\n",
       "      <td>0.00000</td>\n",
       "      <td>1.000000</td>\n",
       "      <td>-5.000000</td>\n",
       "      <td>0.000000</td>\n",
       "      <td>20.000000</td>\n",
       "      <td>0.000000</td>\n",
       "    </tr>\n",
       "    <tr>\n",
       "      <th>25%</th>\n",
       "      <td>1625.568229</td>\n",
       "      <td>3.000000</td>\n",
       "      <td>4.00000</td>\n",
       "      <td>8.000000</td>\n",
       "      <td>10.000000</td>\n",
       "      <td>3.000000</td>\n",
       "      <td>28.052567</td>\n",
       "      <td>30.306660</td>\n",
       "    </tr>\n",
       "    <tr>\n",
       "      <th>50%</th>\n",
       "      <td>3093.745000</td>\n",
       "      <td>6.000000</td>\n",
       "      <td>5.00000</td>\n",
       "      <td>13.000000</td>\n",
       "      <td>18.000000</td>\n",
       "      <td>6.000000</td>\n",
       "      <td>32.305784</td>\n",
       "      <td>69.249473</td>\n",
       "    </tr>\n",
       "    <tr>\n",
       "      <th>75%</th>\n",
       "      <td>5957.448333</td>\n",
       "      <td>7.000000</td>\n",
       "      <td>7.00000</td>\n",
       "      <td>20.000000</td>\n",
       "      <td>28.000000</td>\n",
       "      <td>9.000000</td>\n",
       "      <td>36.496663</td>\n",
       "      <td>161.224249</td>\n",
       "    </tr>\n",
       "    <tr>\n",
       "      <th>max</th>\n",
       "      <td>15204.633333</td>\n",
       "      <td>1798.000000</td>\n",
       "      <td>1499.00000</td>\n",
       "      <td>5797.000000</td>\n",
       "      <td>67.000000</td>\n",
       "      <td>2597.000000</td>\n",
       "      <td>50.000000</td>\n",
       "      <td>82331.000000</td>\n",
       "    </tr>\n",
       "  </tbody>\n",
       "</table>\n",
       "</div>"
      ],
      "text/plain": [
       "       Monthly_Inhand_Salary  Num_Bank_Accounts  Num_Credit_Card  \\\n",
       "count           84998.000000      100000.000000     100000.00000   \n",
       "mean             4194.170850          17.091280         22.47443   \n",
       "std              3183.686167         117.404834        129.05741   \n",
       "min               303.645417          -1.000000          0.00000   \n",
       "25%              1625.568229           3.000000          4.00000   \n",
       "50%              3093.745000           6.000000          5.00000   \n",
       "75%              5957.448333           7.000000          7.00000   \n",
       "max             15204.633333        1798.000000       1499.00000   \n",
       "\n",
       "       Interest_Rate  Delay_from_due_date  Num_Credit_Inquiries  \\\n",
       "count  100000.000000        100000.000000          98035.000000   \n",
       "mean       72.466040            21.068780             27.754251   \n",
       "std       466.422621            14.860104            193.177339   \n",
       "min         1.000000            -5.000000              0.000000   \n",
       "25%         8.000000            10.000000              3.000000   \n",
       "50%        13.000000            18.000000              6.000000   \n",
       "75%        20.000000            28.000000              9.000000   \n",
       "max      5797.000000            67.000000           2597.000000   \n",
       "\n",
       "       Credit_Utilization_Ratio  Total_EMI_per_month  \n",
       "count             100000.000000        100000.000000  \n",
       "mean                  32.285173          1403.118217  \n",
       "std                    5.116875          8306.041270  \n",
       "min                   20.000000             0.000000  \n",
       "25%                   28.052567            30.306660  \n",
       "50%                   32.305784            69.249473  \n",
       "75%                   36.496663           161.224249  \n",
       "max                   50.000000         82331.000000  "
      ]
     },
     "execution_count": 15,
     "metadata": {},
     "output_type": "execute_result"
    }
   ],
   "source": [
    "# summary statistics for numerical\n",
    "df.describe()"
   ]
  },
  {
   "cell_type": "code",
   "execution_count": 16,
   "metadata": {},
   "outputs": [],
   "source": [
    "def categorical_summary_stats(df, categorical_columns=None):\n",
    "    \"\"\"\n",
    "    Generate summary statistics for categorical variables in a dataframe.\n",
    "    \n",
    "    Parameters:\n",
    "    df (pandas.DataFrame): The dataframe to analyze\n",
    "    categorical_columns (list, optional): List of categorical column names to analyze.\n",
    "                                         If None, will try to identify categorical columns.\n",
    "    \n",
    "    Returns:\n",
    "    dict: Dictionary where keys are column names and values are dictionaries of summary statistics\n",
    "    \"\"\"    \n",
    "    # If no categorical columns specified, try to identify them\n",
    "    if categorical_columns is None:\n",
    "        # Select object, category, and boolean dtypes\n",
    "        categorical_columns = df.select_dtypes(include=['object', 'category', 'bool']).columns.tolist()\n",
    "        \n",
    "        # Also include numeric columns with low cardinality (fewer than 10 unique values)\n",
    "        for col in df.select_dtypes(include=['number']).columns:\n",
    "            if df[col].nunique() < 10:\n",
    "                categorical_columns.append(col)\n",
    "    \n",
    "    summary = {}\n",
    "    \n",
    "    for col in categorical_columns:\n",
    "        if col not in df.columns:\n",
    "            continue\n",
    "            \n",
    "        # Basic stats\n",
    "        value_counts = df[col].value_counts()\n",
    "        unique_values = df[col].unique()\n",
    "        missing_values = df[col].isna().sum()\n",
    "        \n",
    "        # Get mode (most frequent value)\n",
    "        mode_value = df[col].mode()[0] if not df[col].empty else None\n",
    "        mode_count = value_counts.iloc[0] if not value_counts.empty else 0\n",
    "        mode_percentage = (mode_count / len(df)) * 100 if len(df) > 0 else 0\n",
    "        \n",
    "        # Get top 5 categories with counts and percentages\n",
    "        top_categories = []\n",
    "        for value, count in value_counts.head(5).items():\n",
    "            percentage = (count / len(df)) * 100\n",
    "            top_categories.append({\n",
    "                'value': value,\n",
    "                'count': count,\n",
    "                'percentage': round(percentage, 2)\n",
    "            })\n",
    "        \n",
    "        # Compile column summary\n",
    "        summary[col] = {\n",
    "            'unique_values': len(unique_values),\n",
    "            'missing_values': missing_values,\n",
    "            'missing_percentage': round((missing_values / len(df)) * 100, 2) if len(df) > 0 else 0,\n",
    "            'mode': {\n",
    "                'value': mode_value,\n",
    "                'count': mode_count,\n",
    "                'percentage': round(mode_percentage, 2)\n",
    "            },\n",
    "            'top_categories': top_categories,\n",
    "            'all_categories': [str(v) for v in unique_values]\n",
    "        }\n",
    "    \n",
    "    return summary"
   ]
  },
  {
   "cell_type": "code",
   "execution_count": 28,
   "metadata": {},
   "outputs": [],
   "source": [
    "def categorical_summary_stats_result(col_name):\n",
    "    cat_stats = categorical_summary_stats(df)\n",
    "    stats = cat_stats[col_name]\n",
    "    print(f\"Summary for {col_name}:\")\n",
    "    print(f\"- Unique values: {stats['unique_values']}\")\n",
    "    print(f\"- Most common value: {stats['mode']['value']} (occurs {stats['mode']['percentage']}% of the time)\")\n",
    "    print(f\"- Top categories:\")\n",
    "    for cat in stats['top_categories']:\n",
    "        print(f\"  • {cat['value']}: {cat['count']} ({cat['percentage']}%)\")\n",
    "    # print(f\"\\n {stats['all_categories']}\")"
   ]
  },
  {
   "cell_type": "code",
   "execution_count": 29,
   "metadata": {},
   "outputs": [
    {
     "name": "stdout",
     "output_type": "stream",
     "text": [
      "Summary for Occupation:\n",
      "- Unique values: 16\n",
      "- Most common value: _______ (occurs 7.06% of the time)\n",
      "- Top categories:\n",
      "  • _______: 7062 (7.06%)\n",
      "  • Lawyer: 6575 (6.58%)\n",
      "  • Architect: 6355 (6.35%)\n",
      "  • Engineer: 6350 (6.35%)\n",
      "  • Scientist: 6299 (6.3%)\n",
      "\n",
      "\n",
      "Summary for Type_of_Loan:\n",
      "- Unique values: 6261\n",
      "- Most common value: Not Specified (occurs 1.41% of the time)\n",
      "- Top categories:\n",
      "  • Not Specified: 1408 (1.41%)\n",
      "  • Credit-Builder Loan: 1280 (1.28%)\n",
      "  • Personal Loan: 1272 (1.27%)\n",
      "  • Debt Consolidation Loan: 1264 (1.26%)\n",
      "  • Student Loan: 1240 (1.24%)\n",
      "\n",
      "\n",
      "Summary for Credit_Mix:\n",
      "- Unique values: 4\n",
      "- Most common value: Standard (occurs 36.48% of the time)\n",
      "- Top categories:\n",
      "  • Standard: 36479 (36.48%)\n",
      "  • Good: 24337 (24.34%)\n",
      "  • _: 20195 (20.2%)\n",
      "  • Bad: 18989 (18.99%)\n",
      "\n",
      "\n",
      "Summary for Payment_of_Min_Amount:\n",
      "- Unique values: 3\n",
      "- Most common value: Yes (occurs 52.33% of the time)\n",
      "- Top categories:\n",
      "  • Yes: 52326 (52.33%)\n",
      "  • No: 35667 (35.67%)\n",
      "  • NM: 12007 (12.01%)\n",
      "\n",
      "\n",
      "Summary for Payment_Behaviour:\n",
      "- Unique values: 7\n",
      "- Most common value: Low_spent_Small_value_payments (occurs 25.51% of the time)\n",
      "- Top categories:\n",
      "  • Low_spent_Small_value_payments: 25513 (25.51%)\n",
      "  • High_spent_Medium_value_payments: 17540 (17.54%)\n",
      "  • Low_spent_Medium_value_payments: 13861 (13.86%)\n",
      "  • High_spent_Large_value_payments: 13721 (13.72%)\n",
      "  • High_spent_Small_value_payments: 11340 (11.34%)\n",
      "\n",
      "\n",
      "Summary for Credit_Score:\n",
      "- Unique values: 3\n",
      "- Most common value: Standard (occurs 53.17% of the time)\n",
      "- Top categories:\n",
      "  • Standard: 53174 (53.17%)\n",
      "  • Poor: 28998 (29.0%)\n",
      "  • Good: 17828 (17.83%)\n",
      "\n",
      "\n"
     ]
    }
   ],
   "source": [
    "categorical_columns = [\n",
    "    \"Occupation\", \n",
    "    \"Type_of_Loan\", \n",
    "    \"Credit_Mix\", \n",
    "    \"Payment_of_Min_Amount\", \n",
    "    \"Payment_Behaviour\", \n",
    "    \"Credit_Score\"\n",
    "]\n",
    "\n",
    "for col in categorical_columns:\n",
    "    categorical_summary_stats_result(col)\n",
    "    print(\"\\n\")\n"
   ]
  },
  {
   "cell_type": "markdown",
   "metadata": {},
   "source": [
    "#### Mixed Data Types"
   ]
  },
  {
   "cell_type": "code",
   "execution_count": 25,
   "metadata": {},
   "outputs": [
    {
     "name": "stdout",
     "output_type": "stream",
     "text": [
      "Column 'Name' has mixed types: {<class 'str'>, <class 'float'>}\n",
      "Column 'Type_of_Loan' has mixed types: {<class 'str'>, <class 'float'>}\n",
      "Column 'Num_of_Delayed_Payment' has mixed types: {<class 'str'>, <class 'float'>}\n",
      "Column 'Credit_History_Age' has mixed types: {<class 'str'>, <class 'float'>}\n",
      "Column 'Amount_invested_monthly' has mixed types: {<class 'str'>, <class 'float'>}\n",
      "Column 'Monthly_Balance' has mixed types: {<class 'str'>, <class 'float'>}\n"
     ]
    }
   ],
   "source": [
    "for col in df.columns:\n",
    "    unique_types = set(df[col].apply(type))\n",
    "    if len(unique_types) > 1:\n",
    "        print(f\"Column '{col}' has mixed types: {unique_types}\")"
   ]
  },
  {
   "cell_type": "code",
   "execution_count": null,
   "metadata": {},
   "outputs": [],
   "source": []
  }
 ],
 "metadata": {
  "kernelspec": {
   "display_name": "base",
   "language": "python",
   "name": "python3"
  },
  "language_info": {
   "codemirror_mode": {
    "name": "ipython",
    "version": 3
   },
   "file_extension": ".py",
   "mimetype": "text/x-python",
   "name": "python",
   "nbconvert_exporter": "python",
   "pygments_lexer": "ipython3",
   "version": "3.12.2"
  }
 },
 "nbformat": 4,
 "nbformat_minor": 2
}
